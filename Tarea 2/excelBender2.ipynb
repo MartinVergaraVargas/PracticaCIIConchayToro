{
 "cells": [
  {
   "cell_type": "code",
   "execution_count": 10,
   "metadata": {},
   "outputs": [],
   "source": [
    "import pandas as pd"
   ]
  },
  {
   "cell_type": "code",
   "execution_count": 23,
   "metadata": {},
   "outputs": [
    {
     "name": "stdout",
     "output_type": "stream",
     "text": [
      "     Orden            Descripcion orden Observación Orden  \\\n",
      "0  OF03487  APLICACIN DE COMPOST VNICAS                 #   \n",
      "1  OF03487  APLICACIN DE COMPOST VNICAS                 #   \n",
      "2  OF03487  APLICACIN DE COMPOST VNICAS                 #   \n",
      "3  OF03487  APLICACIN DE COMPOST VNICAS                 #   \n",
      "4  OF03487  APLICACIN DE COMPOST VNICAS                 #   \n",
      "\n",
      "  Fecha Inicio Program Fecha final Programa   Valle  Fundo   Unnamed: 7  \\\n",
      "0           17-07-2020           24-07-2020  CURICO   1321  Fundo Rauco   \n",
      "1           17-07-2020           24-07-2020  CURICO   1321  Fundo Rauco   \n",
      "2           17-07-2020           24-07-2020  CURICO   1321  Fundo Rauco   \n",
      "3           17-07-2020           24-07-2020  CURICO   1321  Fundo Rauco   \n",
      "4           17-07-2020           24-07-2020  CURICO   1321  Fundo Rauco   \n",
      "\n",
      "  Caseta Bomba  ... \\nUnidades \\nTamaño Envase\\nSAC  \\nDosis planificada  \\\n",
      "0   C040  B116  ...        NaN                  NaN              10000.0   \n",
      "1   C040  B116  ...        NaN                  NaN              10000.0   \n",
      "2   C040  B116  ...        NaN                  NaN              10000.0   \n",
      "3   C040  B116  ...        NaN                  NaN              10000.0   \n",
      "4   C040  B116  ...        NaN                  NaN              10000.0   \n",
      "\n",
      "  \\nDosis Orden \\nDosis Notificada \\nKG/L Tot. Planificado \\nKG/L Tot. Orden  \\\n",
      "0      100000.0       99890.010204                 14700.0          147000.0   \n",
      "1      100000.0       99890.010222                 22500.0          225000.0   \n",
      "2      100000.0       99890.689796                 14700.0          147000.0   \n",
      "3      100000.0       99890.009877                 24300.0          243000.0   \n",
      "4      100000.0       99890.010042                 23900.0          239000.0   \n",
      "\n",
      "  \\nKG/L Tot. Notificada \\nValorización  \\nRendimiento Tn/HA  \n",
      "0             146838.315       146838.0            26.664416  \n",
      "1             224752.523       224753.0            26.664416  \n",
      "2             146839.314       146839.0            26.664416  \n",
      "3             242732.724       242733.0            26.664416  \n",
      "4             238737.124       238737.0            26.664416  \n",
      "\n",
      "[5 rows x 41 columns]\n",
      "(18752, 41)\n"
     ]
    }
   ],
   "source": [
    "datosDeSuelo = 'RFR_pbi_20-21.xlsx'\n",
    "hoja = 'Datos totales'\n",
    "df = pd.read_excel(datosDeSuelo, sheet_name=hoja)#, \n",
    "                   #usecols=['TIPO ANALISIS','ANALITO','UNIDADES','RR Foliar'])\n",
    "\n",
    "\n",
    "dimension = df.shape\n",
    "print(df.head(5))\n",
    "#print(df[['FUNDO','ANALITO']].head(5))\n",
    "print(dimension)\n",
    "#print(df.dtypes)"
   ]
  },
  {
   "cell_type": "code",
   "execution_count": 44,
   "metadata": {},
   "outputs": [
    {
     "name": "stdout",
     "output_type": "stream",
     "text": [
      "Nombres de columnas antes:\n"
     ]
    },
    {
     "ename": "NameError",
     "evalue": "name 'dfCopia' is not defined",
     "output_type": "error",
     "traceback": [
      "\u001b[1;31m---------------------------------------------------------------------------\u001b[0m",
      "\u001b[1;31mNameError\u001b[0m                                 Traceback (most recent call last)",
      "Cell \u001b[1;32mIn[44], line 3\u001b[0m\n\u001b[0;32m      1\u001b[0m \u001b[38;5;66;03m#   PARA ELIMINAR \"\\n\" DE LOS NOMBRES DE LAS COLUMNAS.\u001b[39;00m\n\u001b[0;32m      2\u001b[0m \u001b[38;5;28mprint\u001b[39m(\u001b[38;5;124m\"\u001b[39m\u001b[38;5;124mNombres de columnas antes:\u001b[39m\u001b[38;5;124m\"\u001b[39m)\n\u001b[1;32m----> 3\u001b[0m \u001b[38;5;28mprint\u001b[39m(\u001b[43mdfCopia\u001b[49m\u001b[38;5;241m.\u001b[39mcolumns)\n\u001b[0;32m      4\u001b[0m \u001b[38;5;66;03m# Remueve \"\\n\" de los nombres de las columnas\u001b[39;00m\n\u001b[0;32m      5\u001b[0m dfCopia\u001b[38;5;241m.\u001b[39mcolumns \u001b[38;5;241m=\u001b[39m [col\u001b[38;5;241m.\u001b[39mreplace(\u001b[38;5;124m'\u001b[39m\u001b[38;5;130;01m\\n\u001b[39;00m\u001b[38;5;124m'\u001b[39m, \u001b[38;5;124m'\u001b[39m\u001b[38;5;124m'\u001b[39m) \u001b[38;5;28;01mfor\u001b[39;00m col \u001b[38;5;129;01min\u001b[39;00m dfCopia\u001b[38;5;241m.\u001b[39mcolumns]\n",
      "\u001b[1;31mNameError\u001b[0m: name 'dfCopia' is not defined"
     ]
    }
   ],
   "source": [
    "#   PARA ELIMINAR \"\\n\" DE LOS NOMBRES DE LAS COLUMNAS.\n",
    "print(\"Nombres de columnas antes:\")\n",
    "print(dfCopia.columns)\n",
    "# Remueve \"\\n\" de los nombres de las columnas\n",
    "dfCopia.columns = [col.replace('\\n', '') for col in dfCopia.columns]\n",
    "# Visualiza los nombres de las columnas después de hacer cambios\n",
    "print(\"\\nNombres de columnas después:\")\n",
    "print(dfCopia.columns)\n",
    "dfCopia.to_excel('RFR_pbi_20-21.xlsx', index=False)"
   ]
  },
  {
   "cell_type": "code",
   "execution_count": 4,
   "metadata": {},
   "outputs": [
    {
     "name": "stdout",
     "output_type": "stream",
     "text": [
      "18752\n",
      "18752\n"
     ]
    }
   ],
   "source": [
    "cantidad_filas = referencia.shape[0]\n",
    "df = referencia.drop_duplicates()\n",
    "cantidadFilas = df.shape[0]\n",
    "df.to_excel('RFR_pbi_20-21.xlsx', index=False)\n",
    "print(cantidad_filas)\n",
    "print(cantidadFilas)"
   ]
  },
  {
   "cell_type": "code",
   "execution_count": 10,
   "metadata": {},
   "outputs": [
    {
     "name": "stdout",
     "output_type": "stream",
     "text": [
      "datetime64[ns]\n",
      "datetime64[ns]\n"
     ]
    }
   ],
   "source": [
    "tipo_dato_columna = referencia['Fecha Inicio Program'].dtypes\n",
    "print(tipo_dato_columna)\n",
    "referencia['Fecha Inicio Program'] = pd.to_datetime(referencia['Fecha Inicio Program'])\n",
    "referencia = referencia.sort_values(by='Fecha Inicio Program')\n",
    "tipo_dato_columna = referencia['Fecha Inicio Program'].dtypes\n",
    "print(tipo_dato_columna)"
   ]
  },
  {
   "cell_type": "code",
   "execution_count": 12,
   "metadata": {},
   "outputs": [
    {
     "name": "stdout",
     "output_type": "stream",
     "text": [
      "0\n",
      "Series([], Name: count, dtype: int64)\n"
     ]
    }
   ],
   "source": [
    "print(referencia['Unidades'].nunique())\n",
    "print(referencia['Unidades'].value_counts())"
   ]
  },
  {
   "cell_type": "code",
   "execution_count": 25,
   "metadata": {},
   "outputs": [],
   "source": [
    "fundosListos = []\n",
    "\n",
    "print(fundosListos)\n",
    "\n",
    "for index, fila in referencia.iterrows():\n",
    "    if fila['Unnamed: 7'] not in fundosListos:\n",
    "        valor_deseado = fila['Unnamed: 7']\n",
    "\n",
    "        # Utilizando loc para filtrar las filas\n",
    "        filas_filtradas = referencia.loc[referencia['Unnamed: 7'] == valor_deseado]\n",
    "\n",
    "        with pd.ExcelWriter('RFR_pbi_20-21.xlsx', engine='openpyxl', mode='a') as writer:\n",
    "            # Escribir las filas filtradas en una nueva hoja de cálculo\n",
    "            filas_filtradas.to_excel(writer, sheet_name=valor_deseado, index=False)\n",
    "        \n",
    "        fundosListos.append(valor_deseado)\n",
    "\n",
    "print(len(fundosListos))"
   ]
  },
  {
   "cell_type": "markdown",
   "metadata": {},
   "source": [
    "# Día 2:"
   ]
  },
  {
   "cell_type": "code",
   "execution_count": 12,
   "metadata": {},
   "outputs": [
    {
     "name": "stdout",
     "output_type": "stream",
     "text": [
      "41\n"
     ]
    }
   ],
   "source": [
    "datosDeSuelo = 'RFR_pbi_20-21.xlsx'\n",
    "hojaDeCalculo = 'Datos totales'\n",
    "\n",
    "df = pd.read_excel(datosDeSuelo)\n",
    "\n",
    "''' \n",
    "Inicio Aplicación (Notificada)\tInicio Aplicación (Notificada)\tFundo\tUnnamed: 7\tCuarteles\tSector\tSuperficie del Sector\tDosis Notificada\tKG/L Tot. Notificada\n",
    "Rendimiento Tn/HA\tMaterial\tMaterial.1\tUM base\tEstado Fenológico\tLote1 material\tLote 2 material\tLote 3 material\tSuperficie Parcial\tSistema de conducción\tEstado Desarrollo\n",
    "Valle\tFicha\tVariedad\tAptitud\n",
    "\n",
    "'Sistema de conducción', 'Estado Desarrollo', 'Ficha', 'Valle', 'Fundo',\n",
    "'Unnamed: 7', 'Cuarteles', 'Sector', 'Superficie del Sector',\n",
    "'Variedad', 'Aptitud', 'Material', 'Material.1', 'UM base',\n",
    "'Estado Fenológico', 'Inicio Aplicación (Notificada)',\n",
    "'Fin Aplicación (Notificada)', 'Lote1 material', 'Lote 2 material',\n",
    "'Lote 3 material', 'Unnamed: 20', 'Superficie Parcial',\n",
    "'Tamaño EnvaseSAC', 'Dosis Notificada', 'KG/L Tot. Notificada',\n",
    "'Rendimiento Tn/HA'\n",
    "'''\n",
    "print(len(df.columns))"
   ]
  },
  {
   "cell_type": "code",
   "execution_count": 14,
   "metadata": {},
   "outputs": [],
   "source": [
    "columnas_a_conservar = ['Inicio Aplicación (Notificada)','Inicio Aplicación (Notificada)','Fundo','Unnamed: 7','Cuarteles','Caseta','Bomba','Sector','Superficie del Sector','Dosis Notificada',\n",
    "                        'KG/L Tot. Notificada','Rendimiento Tn/HA','Material','Material.1','UM base','Estado Fenológico','Lote1 material','Lote 2 material','Lote 3 material','Superficie Parcial',\n",
    "                        'Sistema de conducción','Estado Desarrollo','Ficha','Valle','Variedad','Aptitud']\n",
    "\n",
    "# Crear un nuevo DataFrame sin las columnas que no deseas conservar\n",
    "nuevo_df = df[columnas_a_conservar]\n",
    "nuevo_df.to_excel('RFR_pbi_20-21.xlsx', index=False)\n"
   ]
  },
  {
   "cell_type": "code",
   "execution_count": 15,
   "metadata": {},
   "outputs": [
    {
     "name": "stdout",
     "output_type": "stream",
     "text": [
      "(18752, 26)\n"
     ]
    }
   ],
   "source": [
    "print(nuevo_df.shape)"
   ]
  },
  {
   "cell_type": "code",
   "execution_count": 26,
   "metadata": {},
   "outputs": [
    {
     "name": "stdout",
     "output_type": "stream",
     "text": [
      "0        False\n",
      "1        False\n",
      "2        False\n",
      "3        False\n",
      "4        False\n",
      "         ...  \n",
      "18747    False\n",
      "18748    False\n",
      "18749    False\n",
      "18750    False\n",
      "18751    False\n",
      "Length: 18752, dtype: bool\n"
     ]
    }
   ],
   "source": [
    "filas_duplicadas = nuevo_df.duplicated()\n",
    "\n",
    "# Contar el número de filas duplicadas\n",
    "numero_filas_duplicadas = filas_duplicadas.sum()\n",
    "\n",
    "# Imprimir el resultado\n",
    "print(filas_duplicadas)\n"
   ]
  },
  {
   "cell_type": "code",
   "execution_count": 34,
   "metadata": {},
   "outputs": [
    {
     "name": "stdout",
     "output_type": "stream",
     "text": [
      "Índices de filas duplicadas:\n",
      "3510\n",
      "3512\n",
      "3515\n",
      "4416\n",
      "5027\n",
      "5395\n",
      "5399\n",
      "5401\n",
      "5403\n",
      "5552\n",
      "5598\n",
      "5601\n",
      "5607\n",
      "6513\n",
      "6515\n",
      "6517\n",
      "6519\n",
      "6523\n",
      "6549\n",
      "6551\n",
      "6563\n",
      "7030\n",
      "7032\n",
      "7801\n",
      "7806\n",
      "7807\n",
      "7812\n",
      "7817\n",
      "7822\n",
      "7823\n",
      "7828\n",
      "7829\n",
      "7834\n",
      "7994\n",
      "7996\n",
      "8012\n",
      "9249\n",
      "10340\n",
      "10341\n",
      "10342\n",
      "10343\n",
      "11018\n",
      "11020\n",
      "11022\n",
      "11111\n",
      "11112\n",
      "11113\n",
      "11114\n",
      "11115\n",
      "11116\n",
      "11117\n",
      "11118\n",
      "11119\n",
      "11120\n",
      "11121\n",
      "12002\n",
      "12006\n",
      "12008\n",
      "12062\n",
      "13420\n",
      "13422\n",
      "13424\n",
      "13426\n",
      "13428\n",
      "13430\n",
      "13432\n",
      "13434\n",
      "13436\n",
      "13438\n",
      "13440\n",
      "13442\n",
      "13444\n",
      "13446\n",
      "13448\n",
      "13450\n",
      "13452\n",
      "13454\n",
      "13456\n",
      "15742\n",
      "15748\n",
      "15751\n",
      "15754\n",
      "15757\n",
      "15760\n",
      "15763\n",
      "15766\n",
      "15767\n",
      "15770\n",
      "15772\n",
      "15773\n",
      "15775\n",
      "15776\n",
      "15778\n",
      "15779\n",
      "15782\n",
      "15784\n",
      "15785\n",
      "15788\n",
      "15790\n",
      "15791\n",
      "15793\n",
      "15868\n",
      "15927\n",
      "15930\n",
      "15932\n",
      "15934\n",
      "15936\n",
      "16013\n",
      "16015\n",
      "16017\n",
      "16033\n",
      "16035\n",
      "16037\n",
      "16039\n",
      "16041\n",
      "16043\n",
      "16045\n",
      "16047\n",
      "16054\n",
      "16056\n",
      "16058\n",
      "16060\n",
      "16064\n",
      "16066\n"
     ]
    }
   ],
   "source": [
    "indices_filas_duplicadas = [indice for indice, es_duplicada in enumerate(filas_duplicadas) if es_duplicada]\n",
    "\n",
    "# Imprimir los índices de las filas duplicadas\n",
    "print(\"Índices de filas duplicadas:\")\n",
    "for i in indices_filas_duplicadas:\n",
    "    \n",
    "    print(i)\n"
   ]
  },
  {
   "cell_type": "code",
   "execution_count": 5,
   "metadata": {},
   "outputs": [
    {
     "name": "stdout",
     "output_type": "stream",
     "text": [
      "(18629, 24)\n"
     ]
    }
   ],
   "source": [
    "df = df.drop_duplicates()\n",
    "Dimensaion = df.shape\n",
    "print(Dimensaion)\n",
    "df.to_excel('RFR_pbi_20-21.xlsx', index=False)"
   ]
  },
  {
   "cell_type": "code",
   "execution_count": 7,
   "metadata": {},
   "outputs": [
    {
     "name": "stdout",
     "output_type": "stream",
     "text": [
      "[]\n",
      "42\n"
     ]
    }
   ],
   "source": [
    "datosDeSuelo = 'RFR_pbi_20-21.xlsx'\n",
    "hojaDeCalculo = 'Datos totales'\n",
    "\n",
    "df = pd.read_excel(datosDeSuelo, sheet_name=hojaDeCalculo)\n",
    "\n",
    "fundosListos = []\n",
    "\n",
    "print(fundosListos)\n",
    "\n",
    "for index, fila in df.iterrows():\n",
    "    if fila['Unnamed: 7'] not in fundosListos:\n",
    "        valor_deseado = fila['Unnamed: 7']\n",
    "\n",
    "        # Utilizando loc para filtrar las filas\n",
    "        filas_filtradas = df.loc[df['Unnamed: 7'] == valor_deseado]\n",
    "\n",
    "        with pd.ExcelWriter('RFR_pbi_20-21.xlsx', engine='openpyxl', mode='a') as writer:\n",
    "            # Escribir las filas filtradas en una nueva hoja de cálculo\n",
    "            filas_filtradas.to_excel(writer, sheet_name=valor_deseado, index=False)\n",
    "        \n",
    "        fundosListos.append(valor_deseado)\n",
    "\n",
    "print(len(fundosListos))"
   ]
  },
  {
   "cell_type": "code",
   "execution_count": 20,
   "metadata": {},
   "outputs": [
    {
     "ename": "NameError",
     "evalue": "name 'df' is not defined",
     "output_type": "error",
     "traceback": [
      "\u001b[1;31m---------------------------------------------------------------------------\u001b[0m",
      "\u001b[1;31mNameError\u001b[0m                                 Traceback (most recent call last)",
      "Cell \u001b[1;32mIn[20], line 1\u001b[0m\n\u001b[1;32m----> 1\u001b[0m \u001b[38;5;28mprint\u001b[39m(\u001b[43mdf\u001b[49m[\u001b[38;5;124m'\u001b[39m\u001b[38;5;124mUnnamed: 7\u001b[39m\u001b[38;5;124m'\u001b[39m]\u001b[38;5;241m.\u001b[39mvalue_counts())\n",
      "\u001b[1;31mNameError\u001b[0m: name 'df' is not defined"
     ]
    }
   ],
   "source": [
    "print(df['Unnamed: 7'].value_counts())"
   ]
  },
  {
   "cell_type": "markdown",
   "metadata": {},
   "source": [
    "# Día 3:"
   ]
  },
  {
   "cell_type": "code",
   "execution_count": 26,
   "metadata": {},
   "outputs": [
    {
     "name": "stdout",
     "output_type": "stream",
     "text": [
      "Index(['Orden', 'Descripcion orden', 'Observación Orden',\n",
      "       'Fecha Inicio Program', 'Fecha final Programa', 'Valle', 'Fundo',\n",
      "       'Unnamed: 7', 'Caseta', 'Bomba', 'Sistema de conducción',\n",
      "       'Estado Desarrollo', 'Sector', 'Ficha', 'Cuarteles', 'Variedad',\n",
      "       'Aptitud', 'Fecha Planificada programa', 'Material', 'Material.1',\n",
      "       'UM base', 'Estado Fenológico', 'Inicio Aplicación (Notificada)',\n",
      "       'Fin Aplicación (Notificada)', 'Fe.contabilización', 'Lote1 material',\n",
      "       'Lote 2 material', 'Lote 3 material', '\\nProyección CAT Ton/h',\n",
      "       '\\nSuperficie del Sector', '\\nSuperficie Parcial', '\\nUnidades',\n",
      "       '\\nTamaño Envase\\nSAC', '\\nDosis planificada', '\\nDosis Orden',\n",
      "       '\\nDosis Notificada', '\\nKG/L Tot. Planificado', '\\nKG/L Tot. Orden',\n",
      "       '\\nKG/L Tot. Notificada', '\\nValorización', '\\nRendimiento Tn/HA'],\n",
      "      dtype='object')\n",
      "Nombres de columnas antes:\n",
      "Index(['Orden', 'Descripcion orden', 'Observación Orden',\n",
      "       'Fecha Inicio Program', 'Fecha final Programa', 'Valle', 'Fundo',\n",
      "       'Unnamed: 7', 'Caseta', 'Bomba', 'Sistema de conducción',\n",
      "       'Estado Desarrollo', 'Sector', 'Ficha', 'Cuarteles', 'Variedad',\n",
      "       'Aptitud', 'Fecha Planificada programa', 'Material', 'Material.1',\n",
      "       'UM base', 'Estado Fenológico', 'Inicio Aplicación (Notificada)',\n",
      "       'Fin Aplicación (Notificada)', 'Fe.contabilización', 'Lote1 material',\n",
      "       'Lote 2 material', 'Lote 3 material', '\\nProyección CAT Ton/h',\n",
      "       '\\nSuperficie del Sector', '\\nSuperficie Parcial', '\\nUnidades',\n",
      "       '\\nTamaño Envase\\nSAC', '\\nDosis planificada', '\\nDosis Orden',\n",
      "       '\\nDosis Notificada', '\\nKG/L Tot. Planificado', '\\nKG/L Tot. Orden',\n",
      "       '\\nKG/L Tot. Notificada', '\\nValorización', '\\nRendimiento Tn/HA'],\n",
      "      dtype='object')\n",
      "\n",
      "Nombres de columnas después:\n",
      "Index(['Orden', 'Descripcion orden', 'Observación Orden',\n",
      "       'Fecha Inicio Program', 'Fecha final Programa', 'Valle', 'Fundo',\n",
      "       'Unnamed: 7', 'Caseta', 'Bomba', 'Sistema de conducción',\n",
      "       'Estado Desarrollo', 'Sector', 'Ficha', 'Cuarteles', 'Variedad',\n",
      "       'Aptitud', 'Fecha Planificada programa', 'Material', 'Material.1',\n",
      "       'UM base', 'Estado Fenológico', 'Inicio Aplicación (Notificada)',\n",
      "       'Fin Aplicación (Notificada)', 'Fe.contabilización', 'Lote1 material',\n",
      "       'Lote 2 material', 'Lote 3 material', 'Proyección CAT Ton/h',\n",
      "       'Superficie del Sector', 'Superficie Parcial', 'Unidades',\n",
      "       'Tamaño EnvaseSAC', 'Dosis planificada', 'Dosis Orden',\n",
      "       'Dosis Notificada', 'KG/L Tot. Planificado', 'KG/L Tot. Orden',\n",
      "       'KG/L Tot. Notificada', 'Valorización', 'Rendimiento Tn/HA'],\n",
      "      dtype='object')\n"
     ]
    }
   ],
   "source": [
    "import pandas as pd\n",
    "fertilizantes = 'RFR_pbi_20-21.xlsx'\n",
    "hoja = 'Datos totales'\n",
    "df = pd.read_excel(fertilizantes, sheet_name=hoja)\n",
    "\n",
    "print(df.columns)\n",
    "#material = df[''Material'].value_counts()\n",
    "#   PARA ELIMINAR \"\\n\" DE LOS NOMBRES DE LAS COLUMNAS.\n",
    "print(\"Nombres de columnas antes:\")\n",
    "print(df.columns)\n",
    "# Remueve \"\\n\" de los nombres de las columnas\n",
    "df.columns = [col.replace('\\n', '') for col in df.columns]\n",
    "# Visualiza los nombres de las columnas después de hacer cambios\n",
    "print(\"\\nNombres de columnas después:\")\n",
    "print(df.columns)\n",
    "df.to_excel(fertilizantes, sheet_name=hoja, index=False)"
   ]
  },
  {
   "cell_type": "code",
   "execution_count": 32,
   "metadata": {},
   "outputs": [
    {
     "name": "stdout",
     "output_type": "stream",
     "text": [
      "(18752, 41)\n"
     ]
    }
   ],
   "source": [
    "print(df.shape)"
   ]
  },
  {
   "cell_type": "markdown",
   "metadata": {},
   "source": [
    "# Se definen columnas a conservar y filas a eliminar:"
   ]
  },
  {
   "cell_type": "code",
   "execution_count": 31,
   "metadata": {},
   "outputs": [
    {
     "name": "stdout",
     "output_type": "stream",
     "text": [
      "Index(['Fundo', 'Unnamed: 7', 'Cuarteles', 'Caseta', 'Bomba', 'Sector',\n",
      "       'Superficie del Sector', 'Superficie Parcial', 'Dosis Notificada',\n",
      "       'KG/L Tot. Notificada', 'Rendimiento Tn/HA',\n",
      "       'Inicio Aplicación (Notificada)', 'Fin Aplicación (Notificada)',\n",
      "       'Sistema de conducción', 'Estado Desarrollo', 'Ficha', 'Variedad',\n",
      "       'Aptitud', 'Material', 'Material.1', 'UM base', 'Estado Fenológico',\n",
      "       'Lote1 material', 'Lote 2 material', 'Lote 3 material',\n",
      "       'Proyección CAT Ton/h', 'Tamaño EnvaseSAC', 'Valle'],\n",
      "      dtype='object')\n"
     ]
    }
   ],
   "source": [
    "'''     COLUMNAS:\n",
    "['Orden', 'Descripcion orden', 'Observación Orden','Fecha Inicio Program', 'Fecha final Programa',] 'Valle', 'Fundo','Unnamed: 7', 'Caseta', 'Bomba', 'Sistema de conducción',\n",
    "'Estado Desarrollo', 'Sector', 'Ficha', 'Cuarteles', 'Variedad','Aptitud', ['Fecha Planificada programa',] 'Material', 'Material.1','UM base', 'Estado Fenológico', 'Inicio Aplicación (Notificada)',\n",
    "'Fin Aplicación (Notificada)', ['Fe.contabilización',] 'Lote1 material','Lote 2 material', 'Lote 3 material', 'Proyección CAT Ton/h','Superficie del Sector', 'Superficie Parcial', ['Unidades',]\n",
    "'Tamaño EnvaseSAC', ['Dosis planificada', 'Dosis Orden',]'Dosis Notificada', ['KG/L Tot. Planificado', 'KG/L Tot. Orden',]'KG/L Tot. Notificada', ['Valorización',] 'Rendimiento Tn/HA'\n",
    "        SE ELIMINAN LAS COLUMNAS ENCERRADAS EN '[]'.\n",
    "'''\n",
    "'''     FILAS:\n",
    "Se eliminan las filas que tengan químicos de limpieza y no de aplicacion a las vides:\n",
    "HIPOCLORITO DE SODIO, VIZYME AD, AGUA OXIGENDA, VIZIME MO, ACIDO SULFURICO (AGRO), LIMPIEZA DE RIEGO VIZYME MO, ACIDO FOSFORICO 85%--(FOSFORO).\n",
    "'''\n",
    "fertilizantes = 'RFR_pbi_20-21.xlsx'\n",
    "hoja = 'Datos totales'\n",
    "df = pd.read_excel(fertilizantes, sheet_name=hoja)\n",
    "\n",
    "\n",
    "columnas_a_conservar = ['Fundo','Unnamed: 7','Cuarteles','Caseta', 'Bomba', 'Sector','Superficie del Sector','Superficie Parcial','Dosis Notificada','KG/L Tot. Notificada','Rendimiento Tn/HA',\n",
    "                        'Inicio Aplicación (Notificada)','Fin Aplicación (Notificada)','Sistema de conducción','Estado Desarrollo','Ficha','Variedad','Aptitud', 'Material','UM base',\n",
    "                        'Estado Fenológico','Proyección CAT Ton/h','Tamaño EnvaseSAC','Valle']\n",
    "\n",
    "# Crear un nuevo DataFrame sin las columnas que no deseas conservar\n",
    "nuevo_df = df[columnas_a_conservar]\n",
    "print(nuevo_df.columns)\n",
    "#nuevo_df.to_excel('RFR_pbi_20-21.xlsx', index=False)\n"
   ]
  },
  {
   "cell_type": "code",
   "execution_count": 34,
   "metadata": {},
   "outputs": [],
   "source": [
    "filas_a_eliminar = ['HIPOCLORITO DE SODIO', 'VIZYME AD', 'AGUA OXIGENDA', 'VIZIME MO', 'ACIDO SULFURICO (AGRO)', 'LIMPIEZA DE RIEGO VIZYME MO', 'ACIDO FOSFORICO 85%--(FOSFORO)']\n",
    "\n",
    "# Especifica el nombre de la columna\n",
    "nombre_columna = 'Material'\n",
    "\n",
    "# Elimina las filas donde el valor de 'Nombre_Columna' está en la lista 'filas_a_eliminar'\n",
    "nuevo_df = nuevo_df.loc[~nuevo_df[nombre_columna].isin(filas_a_eliminar)]\n",
    "\n",
    "fertilizantes2 = 'RFR_pbi_20-21 - copia.xlsx'\n",
    "hoja = 'Datos totales'\n",
    "nuevo_df.to_excel(fertilizantes2, sheet_name=hoja, index=False)\n"
   ]
  },
  {
   "cell_type": "code",
   "execution_count": 35,
   "metadata": {},
   "outputs": [
    {
     "name": "stdout",
     "output_type": "stream",
     "text": [
      "(15361, 28)\n"
     ]
    }
   ],
   "source": [
    "print(nuevo_df.shape)"
   ]
  },
  {
   "cell_type": "code",
   "execution_count": 38,
   "metadata": {},
   "outputs": [
    {
     "name": "stdout",
     "output_type": "stream",
     "text": [
      "[]\n",
      "42\n"
     ]
    }
   ],
   "source": [
    "fertilizantes = 'RFR_pbi_20-21 - copia.xlsx'\n",
    "hoja = 'Datos totales'\n",
    "df = pd.read_excel(fertilizantes, sheet_name=hoja)\n",
    "\n",
    "fundosListos = []\n",
    "print(fundosListos)\n",
    "\n",
    "for index, fila in df.iterrows():\n",
    "    if fila['Unnamed: 7'] not in fundosListos:\n",
    "        valor_deseado = fila['Unnamed: 7']\n",
    "\n",
    "        # Utilizando loc para filtrar las filas\n",
    "        filas_filtradas = df.loc[df['Unnamed: 7'] == valor_deseado]\n",
    "\n",
    "        with pd.ExcelWriter('RFR_pbi_20-21 - copia.xlsx', engine='openpyxl', mode='a') as writer:\n",
    "            # Escribir las filas filtradas en una nueva hoja de cálculo\n",
    "            filas_filtradas.to_excel(writer, sheet_name=valor_deseado, index=False)\n",
    "        \n",
    "        fundosListos.append(valor_deseado)\n",
    "\n",
    "print(len(fundosListos))"
   ]
  },
  {
   "cell_type": "markdown",
   "metadata": {},
   "source": [
    "# Día 5: \n",
    "### Se preprocesan todos los archivos para estandarizar la información que entregan."
   ]
  },
  {
   "cell_type": "code",
   "execution_count": 8,
   "metadata": {},
   "outputs": [],
   "source": [
    "import pandas as pd\n",
    "archivo20 = 'RFR_pbi_20-21.xlsx'\n",
    "df2021 = pd.read_excel(archivo20)\n",
    "\n",
    "archivo21 = 'RFR_pbi_21-22.xlsx'\n",
    "df2122 = pd.read_excel(archivo21)\n",
    "\n",
    "archivo22 = 'RFR_pbi_22-23.xlsx'\n",
    "df2223 = pd.read_excel(archivo22)"
   ]
  },
  {
   "cell_type": "code",
   "execution_count": 4,
   "metadata": {},
   "outputs": [
    {
     "name": "stdout",
     "output_type": "stream",
     "text": [
      "Index(['Fundo', 'Unnamed: 7', 'Cuarteles', 'Caseta', 'Bomba', 'Sector',\n",
      "       'Superficie del Sector', 'Superficie Parcial', 'Dosis Notificada',\n",
      "       'KG/L Tot. Notificada', 'Rendimiento Tn/HA',\n",
      "       'Inicio Aplicación (Notificada)', 'Fin Aplicación (Notificada)',\n",
      "       'Sistema de conducción', 'Estado Desarrollo', 'Ficha', 'Variedad',\n",
      "       'Aptitud', 'Material', 'UM base', 'Estado Fenológico',\n",
      "       'Proyección CAT Ton/h', 'Tamaño EnvaseSAC', 'Valle'],\n",
      "      dtype='object')\n"
     ]
    }
   ],
   "source": [
    "'''     COLUMNAS:\n",
    "['Orden', 'Descripcion orden', 'Observación Orden','Fecha Inicio Program', 'Fecha final Programa',] 'Valle', 'Fundo','Unnamed: 7', 'Caseta', 'Bomba', 'Sistema de conducción',\n",
    "'Estado Desarrollo', 'Sector', 'Ficha', 'Cuarteles', 'Variedad','Aptitud', ['Fecha Planificada programa',] 'Material', 'Material.1','UM base', 'Estado Fenológico', 'Inicio Aplicación (Notificada)',\n",
    "'Fin Aplicación (Notificada)', ['Fe.contabilización',] 'Lote1 material','Lote 2 material', 'Lote 3 material', 'Proyección CAT Ton/h','Superficie del Sector', 'Superficie Parcial', ['Unidades',]\n",
    "'Tamaño EnvaseSAC', ['Dosis planificada', 'Dosis Orden',]'Dosis Notificada', ['KG/L Tot. Planificado', 'KG/L Tot. Orden',]'KG/L Tot. Notificada', ['Valorización',] 'Rendimiento Tn/HA'\n",
    "        SE ELIMINAN LAS COLUMNAS ENCERRADAS EN '[]'.\n",
    "'''\n",
    "'''     FILAS:\n",
    "Se eliminan las filas que tengan químicos de limpieza y no de aplicacion a las vides:\n",
    "HIPOCLORITO DE SODIO, VIZYME AD, AGUA OXIGENDA, VIZIME MO, ACIDO SULFURICO (AGRO), LIMPIEZA DE RIEGO VIZYME MO, ACIDO FOSFORICO 85%--(FOSFORO).\n",
    "'''\n",
    "columnas_a_conservar = ['Fundo','Unnamed: 7','Cuarteles','Caseta', 'Bomba', 'Sector','Superficie del Sector','Superficie Parcial','Dosis Notificada','KG/L Tot. Notificada','Rendimiento Tn/HA',\n",
    "                        'Inicio Aplicación (Notificada)','Fin Aplicación (Notificada)','Sistema de conducción','Estado Desarrollo','Ficha','Variedad','Aptitud', 'Material','UM base',\n",
    "                        'Estado Fenológico','Proyección CAT Ton/h','Tamaño EnvaseSAC','Valle']\n",
    "\n",
    "# Crear un nuevo DataFrame sin las columnas que no deseas conservar\n",
    "nuevo_df = df2021[columnas_a_conservar]\n",
    "print(nuevo_df.columns)\n",
    "#nuevo_df.to_excel('RFR_pbi_20-21.xlsx', index=False)\n"
   ]
  },
  {
   "cell_type": "code",
   "execution_count": 5,
   "metadata": {},
   "outputs": [],
   "source": [
    "filas_a_eliminar = ['HIPOCLORITO DE SODIO', 'VIZYME AD', 'AGUA OXIGENDA', 'VIZIME MO', 'ACIDO SULFURICO (AGRO)', 'LIMPIEZA DE RIEGO VIZYME MO', 'ACIDO FOSFORICO 85%--(FOSFORO)','COUPLEX','WATER LOCK','WATER-AID']\n",
    "\n",
    "\n",
    "# Especifica el nombre de la columna\n",
    "nombre_columna = 'Material'\n",
    "\n",
    "# Elimina las filas donde el valor de 'Nombre_Columna' está en la lista 'filas_a_eliminar'\n",
    "nuevo_df = nuevo_df.loc[~nuevo_df[nombre_columna].isin(filas_a_eliminar)]\n",
    "\n",
    "fertilizantes2 = 'RFR_pbi_20-21 - copia.xlsx'\n",
    "hoja = 'Datos sin limpiadores'\n",
    "nuevo_df.to_excel(fertilizantes2, sheet_name=hoja, index=False)\n"
   ]
  },
  {
   "cell_type": "markdown",
   "metadata": {},
   "source": [
    "#### 2021 - 2022"
   ]
  },
  {
   "cell_type": "code",
   "execution_count": 70,
   "metadata": {},
   "outputs": [],
   "source": [
    "import pandas as pd\n",
    "fertilizantes = 'RFR_pbi_21-22.xlsx'\n",
    "df2122 = pd.read_excel(fertilizantes)"
   ]
  },
  {
   "cell_type": "code",
   "execution_count": 71,
   "metadata": {},
   "outputs": [
    {
     "name": "stdout",
     "output_type": "stream",
     "text": [
      "(18309, 56)\n",
      "Index(['Año Agrícola', 'Orden', 'Descripcion orden', 'Fecha Inicio Program',\n",
      "       'Fecha final Programa', 'Valle', 'Fundo', 'Caseta', 'Bomba',\n",
      "       'Descripción Bomba', 'Sector', 'Ficha', 'Cuarteles', 'Tipo de Suelo',\n",
      "       'Observación Orden', 'Sistema de conducció', 'Estado Desarrollo',\n",
      "       'Variedad', 'Aptitud', 'Material', 'Material.1', 'UM base',\n",
      "       'Fecha Planificada pr', 'Inicio Aplicación (Notificada)',\n",
      "       'Fin Aplicación (Notificada)', 'Fe.contabilización',\n",
      "       'Estado Fenológico', 'Usuario Anulación No', 'Usuario Notificador',\n",
      "       'Administrador', 'Encargado Aplicación', 'Encargado Aplicación.1',\n",
      "       'Superficie DM HA', 'Sup Sector Total', 'Proyeccón CAT Ton/Ha',\n",
      "       'Tamaño de Envase', 'KG/L Tot. Planificado KG', 'KG/L Tot. Orden KG',\n",
      "       'KG/L Tot. Notificada KG', 'Dosis Planificada (KG/HA)',\n",
      "       'Dosis Orden (KG/HA)', 'Dosis Notificada (KG/HA)', 'Rendimiento Tn/HA',\n",
      "       'Nutrientes', 'Unidades Azufre notificadas',\n",
      "       'Unidades Boro notificadas', 'Unidades Calcio notificadas',\n",
      "       'Unidades Cloro notificadas', 'Unidades Fierro notificadas',\n",
      "       'Unidades Fósforo notificadas', 'Unidades Magnesio notificadas',\n",
      "       'Unidades Nitrógeno notificadas', 'Potasio',\n",
      "       'Unidades Potasio notificadas', 'Unidades Zinc notificadas',\n",
      "       'Valorización $'],\n",
      "      dtype='object')\n"
     ]
    }
   ],
   "source": [
    "print(df2122.shape)\n",
    "print(df2122.columns)"
   ]
  },
  {
   "cell_type": "code",
   "execution_count": 38,
   "metadata": {},
   "outputs": [
    {
     "name": "stdout",
     "output_type": "stream",
     "text": [
      "(58, 2)\n"
     ]
    }
   ],
   "source": [
    "#       SE SACA EL VALUE_COUNTS() DE LOS MATERIALES Y SE PASA A UN EXCEL.\n",
    "conteo_materiales = df2122['Material'].value_counts()\n",
    "\n",
    "# Crear un nuevo DataFrame con 'Material' y 'Cantidad' como columnas\n",
    "df_resultado = pd.DataFrame({'Material': conteo_materiales.index, 'Cantidad': conteo_materiales.values})\n",
    "\n",
    "# Imprimir la forma del DataFrame resultante\n",
    "print(df_resultado.shape)\n",
    "\n",
    "# Guardar el resultado en un nuevo archivo Excel\n",
    "hoja1 = '21-22'\n",
    "df_resultado.to_excel('materiales.xlsx', sheet_name=hoja1, index=False)\n"
   ]
  },
  {
   "cell_type": "code",
   "execution_count": null,
   "metadata": {},
   "outputs": [],
   "source": [
    "'''\n",
    "K14 (POTASIO 14)                            4412\n",
    "SOLBLEND (FOSFATO MONOAMONICO)              2370\n",
    "N23 + NOVATEK                               2007\n",
    "SOLBLEND (SULFATO MAGNESIO)                 1114\n",
    "SOLBLEND (MURIATO POTASIO)                  1025\n",
    "HIPOCLORITO DE SODIO                        1016\n",
    "TIOSULFATO DE POTASIO                        955\n",
    "UAN 32 (NITROGENO LIQUIDO)                   890\n",
    "N23 (NITROGENO LIQUIDO)                      874\n",
    "SOLUBOR (BORO FOLIAR)                        827\n",
    "SOLBLEND (NITRATO POTASIO)                   576\n",
    "BIOAMINOL-L                                  272\n",
    "BACHUMUS ECO                                 260\n",
    "VIZYME AD                                    \n",
    "LIMPIEZA DE RIEGO VIZYME MO                  \n",
    "CATS (THIOSULFATO DE CALCIO)                 172\n",
    "SUELOFERT HF80                               151\n",
    "VITAZYME                                     \n",
    "AMINOCHEM MO                                  90\n",
    "COUPLEX                                       66\n",
    "TERRASOIL PLUS (FERTILIZANTE)                 52\n",
    "FERTUM BIOFERT PLUS FERTILIZANTE              49\n",
    "MAP CRISTAL (FOSFATO MONOAMONICO)12-61        47\n",
    "COMPOST (CyT)                                 46\n",
    "AGUA OXIGENDA                                 \n",
    "SEMILLA MOSTAZA                               37\n",
    "ACCOMPLISH                                    34\n",
    "COMPOST VINICAS                               32\n",
    "REXOLIN 6% PS (FE HBED)(APLIC. SUELO)         30\n",
    "ENERSOL                                       28\n",
    "WATER LOCK                                    28\n",
    "NITRATO DE CALCIO CRISTALIZADO (NITROGEN      24\n",
    "MURIATO DE POTASIO SOLUBLE (POTASIO)          20\n",
    "N-A-PRO (AMINOÁCIDOS)                         19\n",
    "SUPERFOSFATO TRIPLE--(FOSFORO)                19\n",
    "APP-11-37 POLIFOSFATO DE AMONIO               16\n",
    "UREA--(NITROGENO)                             16\n",
    "NUTRISORB L                                   16\n",
    "GUANO VACUNO                                  13\n",
    "PROMESOL 5X FERTILIZANTE                      11\n",
    "MOV POTASIO                                    9\n",
    "VITASOIL                                       8\n",
    "IBICARBOX                                      7\n",
    "GUANO DE POLLO COMPOSTADO                      7\n",
    "SEMILLA NEMTEX                                 7\n",
    "WATER-AID                                      4\n",
    "SEMILLA ARVEJA                                 4\n",
    "MYCOUP                                         4\n",
    "POWER VIT                                      2\n",
    "PROMERSOL CA+ (FERTILIZANTE Y ABONO)           2\n",
    "CENTEON MAX (BIOFERTILIZANTE WP)               2\n",
    "DIAZOL 50 EW (DIAZINON)                        1\n",
    "RUGBY 200 CS (CADUSAFOS)                       1\n",
    "GERMINAL PLUS                                  1\n",
    "AMINOCAT (BIOESTIMULANTE)                      1\n",
    "POTENZA AMINO                                  1\n",
    "NITROGUARD                                     1\n",
    "POW HUMUS (ACIDO HUMICOS 80%)                  1\n",
    "\n",
    "'''"
   ]
  },
  {
   "cell_type": "code",
   "execution_count": 72,
   "metadata": {},
   "outputs": [
    {
     "name": "stdout",
     "output_type": "stream",
     "text": [
      "Nombres de columnas antes:\n",
      "Index(['Año Agrícola', 'Orden', 'Descripcion orden', 'Fecha Inicio Program',\n",
      "       'Fecha final Programa', 'Valle', 'Fundo', 'Caseta', 'Bomba',\n",
      "       'Descripción Bomba', 'Sector', 'Ficha', 'Cuarteles', 'Tipo de Suelo',\n",
      "       'Observación Orden', 'Sistema de conducció', 'Estado Desarrollo',\n",
      "       'Variedad', 'Aptitud', 'Material', 'Material.1', 'UM base',\n",
      "       'Fecha Planificada pr', 'Inicio Aplicación (Notificada)',\n",
      "       'Fin Aplicación (Notificada)', 'Fe.contabilización',\n",
      "       'Estado Fenológico', 'Usuario Anulación No', 'Usuario Notificador',\n",
      "       'Administrador', 'Encargado Aplicación', 'Encargado Aplicación.1',\n",
      "       'Superficie DM HA', 'Sup Sector Total', 'Proyeccón CAT Ton/Ha',\n",
      "       'Tamaño de Envase', 'KG/L Tot. Planificado KG', 'KG/L Tot. Orden KG',\n",
      "       'KG/L Tot. Notificada KG', 'Dosis Planificada (KG/HA)',\n",
      "       'Dosis Orden (KG/HA)', 'Dosis Notificada (KG/HA)', 'Rendimiento Tn/HA',\n",
      "       'Nutrientes', 'Unidades Azufre notificadas',\n",
      "       'Unidades Boro notificadas', 'Unidades Calcio notificadas',\n",
      "       'Unidades Cloro notificadas', 'Unidades Fierro notificadas',\n",
      "       'Unidades Fósforo notificadas', 'Unidades Magnesio notificadas',\n",
      "       'Unidades Nitrógeno notificadas', 'Potasio',\n",
      "       'Unidades Potasio notificadas', 'Unidades Zinc notificadas',\n",
      "       'Valorización $'],\n",
      "      dtype='object')\n",
      "\n",
      "Nombres de columnas después:\n",
      "Index(['Año Agrícola', 'Orden', 'Descripcion orden', 'Fecha Inicio Program',\n",
      "       'Fecha final Programa', 'Valle', 'Fundo', 'Caseta', 'Bomba',\n",
      "       'Descripción Bomba', 'Sector', 'Ficha', 'Cuarteles', 'Tipo de Suelo',\n",
      "       'Observación Orden', 'Sistema de conducción', 'Estado Desarrollo',\n",
      "       'Variedad', 'Aptitud', 'Material', 'Material.1', 'UM base',\n",
      "       'Fecha Planificada pr', 'Inicio Aplicación (Notificada)',\n",
      "       'Fin Aplicación (Notificada)', 'Fe.contabilización',\n",
      "       'Estado Fenológico', 'Usuario Anulación No', 'Usuario Notificador',\n",
      "       'Administrador', 'Encargado Aplicación', 'Encargado Aplicación.1',\n",
      "       'Superficie DM HA', 'Sup Sector Total', 'Proyeccón CAT Ton/Ha',\n",
      "       'Tamaño de Envase', 'KG/L Tot. Planificado KG', 'KG/L Tot. Orden KG',\n",
      "       'KG/L Tot. Notificada KG', 'Dosis Planificada (KG/HA)',\n",
      "       'Dosis Orden (KG/HA)', 'Dosis Notificada (KG/HA)', 'Rendimiento Tn/HA',\n",
      "       'Nutrientes', 'Unidades Azufre notificadas',\n",
      "       'Unidades Boro notificadas', 'Unidades Calcio notificadas',\n",
      "       'Unidades Cloro notificadas', 'Unidades Fierro notificadas',\n",
      "       'Unidades Fósforo notificadas', 'Unidades Magnesio notificadas',\n",
      "       'Unidades Nitrógeno notificadas', 'Potasio',\n",
      "       'Unidades Potasio notificadas', 'Unidades Zinc notificadas',\n",
      "       'Valorización $'],\n",
      "      dtype='object')\n"
     ]
    }
   ],
   "source": [
    "#   PARA ELIMINAR \"\\n\" DE LOS NOMBRES DE LAS COLUMNAS.\n",
    "print(\"Nombres de columnas antes:\")\n",
    "print(df2122.columns)\n",
    "# Remueve \"\\n\" de los nombres de las columnas\n",
    "df2122.columns = [col.replace('conducció', 'conducción') for col in df2122.columns]\n",
    "# Visualiza los nombres de las columnas después de hacer cambios\n",
    "print(\"\\nNombres de columnas después:\")\n",
    "print(df2122.columns)\n",
    "df2122.to_excel('RFR_pbi_21-22 - copia.xlsx', index=False)"
   ]
  },
  {
   "cell_type": "code",
   "execution_count": null,
   "metadata": {},
   "outputs": [],
   "source": [
    "'''     COLUMNAS:\n",
    "\n",
    "'Año Agrícola',[ 'Orden', 'Descripcion orden', 'Fecha Inicio Program','Fecha final Programa',] 'Valle', 'Fundo', 'Caseta', 'Bomba','Descripción Bomba', 'Sector', 'Ficha', 'Cuarteles', 'Tipo de Suelo',\n",
    "['Observación Orden',] 'Sistema de conducció', 'Estado Desarrollo','Variedad', 'Aptitud', 'Material',[ 'Material.1',] 'UM base',['Fecha Planificada pr',] 'Inicio Aplicación (Notificada)',\n",
    "'Fin Aplicación (Notificada)',[ 'Fe.contabilización',]'Estado Fenológico',[ 'Usuario Anulación No', 'Usuario Notificador','Administrador', 'Encargado Aplicación', 'Encargado Aplicación.1',]\n",
    "'Superficie DM HA', 'Sup Sector Total', 'Proyeccón CAT Ton/Ha','Tamaño de Envase',[ 'KG/L Tot. Planificado KG', 'KG/L Tot. Orden KG',]'KG/L Tot. Notificada KG',[ 'Dosis Planificada (KG/HA)',\n",
    "'Dosis Orden (KG/HA)',] 'Dosis Notificada (KG/HA)', 'Rendimiento Tn/HA','Nutrientes', 'Unidades Azufre notificadas','Unidades Boro notificadas', 'Unidades Calcio notificadas',\n",
    "'Unidades Cloro notificadas', 'Unidades Fierro notificadas','Unidades Fósforo notificadas', 'Unidades Magnesio notificadas','Unidades Nitrógeno notificadas', 'Potasio',\n",
    "'Unidades Potasio notificadas', 'Unidades Zinc notificadas'[,'Valorización $']\n",
    "        SE ELIMINAN LAS COLUMNAS ENCERRADAS EN '[]'.\n",
    "'''\n",
    "'''     FILAS:\n",
    "Se eliminan las filas que tengan químicos de limpieza y no de aplicacion a las vides:\n",
    "HIPOCLORITO DE SODIO, VIZYME AD, AGUA OXIGENDA, VIZIME MO, ACIDO SULFURICO (AGRO), LIMPIEZA DE RIEGO VIZYME MO, ACIDO FOSFORICO 85%--(FOSFORO).\n",
    "'''"
   ]
  },
  {
   "cell_type": "code",
   "execution_count": 9,
   "metadata": {},
   "outputs": [
    {
     "name": "stdout",
     "output_type": "stream",
     "text": [
      "(18309, 38)\n"
     ]
    }
   ],
   "source": [
    "columnas_a_conservar = ['Fundo','Cuarteles','Caseta','Bomba','Sector','Superficie DM HA', 'Sup Sector Total','Dosis Notificada (KG/HA)','KG/L Tot. Notificada KG','UM base','Material',\n",
    "                        'Inicio Aplicación (Notificada)','Fin Aplicación (Notificada)','Rendimiento Tn/HA','Nutrientes','Descripción Bomba','Año Agrícola','Valle','Ficha','Tipo de Suelo',\n",
    "                        'Sistema de conducción','Estado Desarrollo','Variedad','Aptitud','Estado Fenológico', 'Proyeccón CAT Ton/Ha','Tamaño de Envase',\n",
    "                        'Unidades Azufre notificadas','Unidades Boro notificadas','Unidades Calcio notificadas','Unidades Cloro notificadas', 'Unidades Fierro notificadas','Unidades Fósforo notificadas',\n",
    "                        'Unidades Magnesio notificadas','Unidades Nitrógeno notificadas', 'Potasio','Unidades Potasio notificadas', 'Unidades Zinc notificadas']\n",
    "\n",
    "# Crear un nuevo DataFrame sin las columnas que no deseas conservar\n",
    "nuevo_df2122 = df2122[columnas_a_conservar]\n",
    "print(nuevo_df2122.shape)\n",
    "nuevo_df2122.to_excel('RFR_pbi_21-22 - copia.xlsx', sheet_name='Datos totales', index=False)\n"
   ]
  },
  {
   "cell_type": "markdown",
   "metadata": {},
   "source": [
    "#### 2022 - 2023"
   ]
  },
  {
   "cell_type": "code",
   "execution_count": 52,
   "metadata": {},
   "outputs": [
    {
     "name": "stdout",
     "output_type": "stream",
     "text": [
      "(20768, 56)\n",
      "Index(['Año Agrícola', 'Orden', 'Descripcion orden', 'Fecha Inicio Program',\n",
      "       'Fecha final Programa', 'Valle', 'Fundo', 'Caseta', 'Bomba',\n",
      "       'Descripción Bomba', 'Sector', 'Ficha', 'Cuarteles', 'Tipo de Suelo',\n",
      "       'Observación Orden', 'Sistema de conducció', 'Estado Desarrollo',\n",
      "       'Variedad', 'Aptitud', 'Material', 'Material.1', 'UM base',\n",
      "       'Fecha Planificada pr', 'Inicio Aplicación (Notificada)',\n",
      "       'Fin Aplicación (Notificada)', 'Fe.contabilización',\n",
      "       'Estado Fenológico', 'Usuario Anulación No', 'Usuario Notificador',\n",
      "       'Administrador', 'Encargado Aplicación', 'Encargado Aplicación.1',\n",
      "       'Superficie DM HA', 'Sup Sector Total', 'Proyeccón CAT Ton/Ha',\n",
      "       'Tamaño de Envase', 'KG/L Tot. Planificado KG', 'KG/L Tot. Orden KG',\n",
      "       'KG/L Tot. NotificadaKG', 'Dosis Planificada (KG/HA)',\n",
      "       'Dosis Orden (KG/HA)', 'Dosis Notificada (KG/HA)', 'Rendimiento Tn/HA',\n",
      "       'Nutrientes', 'Unidades Azufre notificadas',\n",
      "       'Unidades Boro notificadas', 'Unidades Calcio notificadas',\n",
      "       'Unidades Cloro notificadas', 'Unidades Fierro notificadas',\n",
      "       'Unidades Fósforo notificadas', 'Unidades Magnesio notificadas',\n",
      "       'Unidades Nitrógeno notificadas', 'Potasio',\n",
      "       'Unidades Potasio notificadas', 'Unidades Zinc notificadas',\n",
      "       'Valorización $'],\n",
      "      dtype='object')\n"
     ]
    }
   ],
   "source": [
    "frtznt = 'RFR_pbi_22-23.xlsx'\n",
    "df2223 = pd.read_excel(frtznt)\n",
    "print(df2223.shape)\n",
    "print(df2223.columns)"
   ]
  },
  {
   "cell_type": "code",
   "execution_count": 43,
   "metadata": {},
   "outputs": [
    {
     "name": "stdout",
     "output_type": "stream",
     "text": [
      "(80, 2)\n"
     ]
    }
   ],
   "source": [
    "\n",
    "conteo_materiales = df2223['Material'].value_counts()\n",
    "\n",
    "# Crear un nuevo DataFrame con 'Material' y 'Cantidad' como columnas\n",
    "df_resultado = pd.DataFrame({'Material': conteo_materiales.index, 'Cantidad': conteo_materiales.values})\n",
    "\n",
    "# Imprimir la forma del DataFrame resultante\n",
    "print(df_resultado.shape)\n",
    "\n",
    "# Guardar el resultado en un nuevo archivo Excel\n",
    "hoja2 = '22-23'\n",
    "\n",
    "\n",
    "with pd.ExcelWriter('materiales.xlsx', engine='openpyxl', mode='a') as writer:\n",
    "    df_resultado.to_excel(writer, sheet_name=hoja2, index=False)\n"
   ]
  },
  {
   "cell_type": "code",
   "execution_count": 60,
   "metadata": {},
   "outputs": [
    {
     "name": "stdout",
     "output_type": "stream",
     "text": [
      "Nombres de columnas antes:\n",
      "Index(['Año Agrícola', 'Orden', 'Descripcion orden', 'Fecha Inicio Program',\n",
      "       'Fecha final Programa', 'Valle', 'Fundo', 'Caseta', 'Bomba',\n",
      "       'Descripción Bomba', 'Sector', 'Ficha', 'Cuarteles', 'Tipo de Suelo',\n",
      "       'Observación Orden', 'Sistema de conducció', 'Estado Desarrollo',\n",
      "       'Variedad', 'Aptitud', 'Material', 'Material.1', 'UM base',\n",
      "       'Fecha Planificada pr', 'Inicio Aplicación (Notificada)',\n",
      "       'Fin Aplicación (Notificada)', 'Fe.contabilización',\n",
      "       'Estado Fenológico', 'Usuario Anulación No', 'Usuario Notificador',\n",
      "       'Administrador', 'Encargado Aplicación', 'Encargado Aplicación.1',\n",
      "       'Superficie DM HA', 'Sup Sector Total', 'Proyeccón CAT Ton/Ha',\n",
      "       'Tamaño de Envase', 'KG/L Tot. Planificado KG', 'KG/L Tot. Orden KG',\n",
      "       'KG/L Tot. Notificada KG', 'Dosis Planificada (KG/HA)',\n",
      "       'Dosis Orden (KG/HA)', 'Dosis Notificada (KG/HA)', 'Rendimiento Tn/HA',\n",
      "       'Nutrientes', 'Unidades Azufre notificadas',\n",
      "       'Unidades Boro notificadas', 'Unidades Calcio notificadas',\n",
      "       'Unidades Cloro notificadas', 'Unidades Fierro notificadas',\n",
      "       'Unidades Fósforo notificadas', 'Unidades Magnesio notificadas',\n",
      "       'Unidades Nitrógeno notificadas', 'Potasio',\n",
      "       'Unidades Potasio notificadas', 'Unidades Zinc notificadas',\n",
      "       'Valorización $'],\n",
      "      dtype='object')\n",
      "\n",
      "Nombres de columnas después:\n",
      "Index(['Año Agrícola', 'Orden', 'Descripcion orden', 'Fecha Inicio Program',\n",
      "       'Fecha final Programa', 'Valle', 'Fundo', 'Caseta', 'Bomba',\n",
      "       'Descripción Bomba', 'Sector', 'Ficha', 'Cuarteles', 'Tipo de Suelo',\n",
      "       'Observación Orden', 'Sistema de conducción', 'Estado Desarrollo',\n",
      "       'Variedad', 'Aptitud', 'Material', 'Material.1', 'UM base',\n",
      "       'Fecha Planificada pr', 'Inicio Aplicación (Notificada)',\n",
      "       'Fin Aplicación (Notificada)', 'Fe.contabilización',\n",
      "       'Estado Fenológico', 'Usuario Anulación No', 'Usuario Notificador',\n",
      "       'Administrador', 'Encargado Aplicación', 'Encargado Aplicación.1',\n",
      "       'Superficie DM HA', 'Sup Sector Total', 'Proyeccón CAT Ton/Ha',\n",
      "       'Tamaño de Envase', 'KG/L Tot. Planificado KG', 'KG/L Tot. Orden KG',\n",
      "       'KG/L Tot. Notificada KG', 'Dosis Planificada (KG/HA)',\n",
      "       'Dosis Orden (KG/HA)', 'Dosis Notificada (KG/HA)', 'Rendimiento Tn/HA',\n",
      "       'Nutrientes', 'Unidades Azufre notificadas',\n",
      "       'Unidades Boro notificadas', 'Unidades Calcio notificadas',\n",
      "       'Unidades Cloro notificadas', 'Unidades Fierro notificadas',\n",
      "       'Unidades Fósforo notificadas', 'Unidades Magnesio notificadas',\n",
      "       'Unidades Nitrógeno notificadas', 'Potasio',\n",
      "       'Unidades Potasio notificadas', 'Unidades Zinc notificadas',\n",
      "       'Valorización $'],\n",
      "      dtype='object')\n"
     ]
    }
   ],
   "source": [
    "#   PARA ELIMINAR \"\\n\" DE LOS NOMBRES DE LAS COLUMNAS.\n",
    "print(\"Nombres de columnas antes:\")\n",
    "print(df2223.columns)\n",
    "# Remueve \"\\n\" de los nombres de las columnas\n",
    "df2223.columns = [col.replace('conducció', 'conducción') for col in df2223.columns]\n",
    "# Visualiza los nombres de las columnas después de hacer cambios\n",
    "print(\"\\nNombres de columnas después:\")\n",
    "print(df2223.columns)\n",
    "df2223.to_excel('RFR_pbi_22-23 - copia.xlsx', index=False)"
   ]
  },
  {
   "cell_type": "code",
   "execution_count": 10,
   "metadata": {},
   "outputs": [
    {
     "name": "stdout",
     "output_type": "stream",
     "text": [
      "(20768, 38)\n"
     ]
    }
   ],
   "source": [
    "#       SE SACA EL VALUE_COUNTS() DE LOS MATERIALES Y SE PASA A UN EXCEL.\n",
    "\n",
    "columnas_a_conservar = ['Fundo','Cuarteles','Caseta','Bomba','Sector','Superficie DM HA', 'Sup Sector Total','Dosis Notificada (KG/HA)','KG/L Tot. Notificada KG','UM base','Material',\n",
    "                        'Inicio Aplicación (Notificada)','Fin Aplicación (Notificada)','Rendimiento Tn/HA','Nutrientes','Descripción Bomba','Año Agrícola','Valle','Ficha','Tipo de Suelo',\n",
    "                        'Sistema de conducción','Estado Desarrollo','Variedad','Aptitud','Estado Fenológico', 'Proyeccón CAT Ton/Ha','Tamaño de Envase',\n",
    "                        'Unidades Azufre notificadas','Unidades Boro notificadas','Unidades Calcio notificadas','Unidades Cloro notificadas', 'Unidades Fierro notificadas','Unidades Fósforo notificadas',\n",
    "                        'Unidades Magnesio notificadas','Unidades Nitrógeno notificadas', 'Potasio','Unidades Potasio notificadas', 'Unidades Zinc notificadas']\n",
    "\n",
    "# Crear un nuevo DataFrame sin las columnas que no deseas conservar\n",
    "nuevo_df2223 = df2223[columnas_a_conservar]\n",
    "print(nuevo_df2223.shape)\n",
    "nuevo_df2223.to_excel('RFR_pbi_22-23 - copia.xlsx', sheet_name='Datos totales', index=False)\n"
   ]
  },
  {
   "cell_type": "markdown",
   "metadata": {},
   "source": [
    "## Se separa en hojas de cálculo los cuarteles singulares de los agrupados."
   ]
  },
  {
   "cell_type": "code",
   "execution_count": 1,
   "metadata": {},
   "outputs": [],
   "source": [
    "import pandas as pd\n",
    "\n",
    "archivo1 = 'RFR_pbi_21-22 - copia.xlsx'\n",
    "hoja = 'Datos totales'\n",
    "df2122 = pd.read_excel(archivo1, sheet_name=hoja)\n",
    "\n",
    "archivo2 = 'RFR_pbi_22-23 - copia.xlsx'\n",
    "hoja = 'Datos totales'\n",
    "df2223 = pd.read_excel(archivo2, sheet_name=hoja)"
   ]
  },
  {
   "cell_type": "code",
   "execution_count": 2,
   "metadata": {},
   "outputs": [
    {
     "name": "stdout",
     "output_type": "stream",
     "text": [
      "(18309, 37)\n",
      "(20768, 37)\n"
     ]
    }
   ],
   "source": [
    "print(df2122.shape)\n",
    "print(df2223.shape)"
   ]
  },
  {
   "cell_type": "code",
   "execution_count": null,
   "metadata": {},
   "outputs": [],
   "source": [
    "cuartelesAgrupados = pd.DataFrame(columns=df2122.columns)\n",
    "cuartelesSingulares = pd.DataFrame(columns=df2122.columns)\n",
    "\n",
    "\n",
    "for index, fila in df2122.iterrows():\n",
    "    if (\", \" in fila['Cuarteles']) or (\"-\" in fila['Cuarteles']):\n",
    "        # Tu lógica aquí si la celda tiene múltiples datos\n",
    "        cuartelesAgrupados = pd.concat([cuartelesAgrupados, fila], ignore_index=True)\n",
    "\n",
    "        print(\"La celda tiene múltiples datos.\")\n",
    "    else:\n",
    "        # Tu lógica aquí si la celda tiene un solo dato\n",
    "        cuartelesSingulares = pd.concat([cuartelesSingulares, fila], ignore_index=True)\n",
    "        print(\"La celda tiene un solo dato.\")\n",
    "\n",
    "with pd.ExcelWriter('RFR_pbi_21-22 - copia.xlsx', engine='openpyxl', mode='a') as writer:\n",
    "    cuartelesAgrupados.to_excel(writer, sheet_name='Cuarteles agrupados', index=False)\n",
    "    cuartelesSingulares.to_excel(writer, sheet_name='Cuarteles singulares', index=False)\n"
   ]
  },
  {
   "cell_type": "code",
   "execution_count": null,
   "metadata": {},
   "outputs": [],
   "source": [
    "cuartelesListos = []\n",
    "\n",
    "for index, fila in df2122.iterrows():\n",
    "    if fila['Cuarteles'] not in cuartelesListos:\n",
    "        valor_deseado = fila['Cuarteles']\n",
    "        if (\", \" in fila['Cuarteles']) or (\"-\" in fila['Cuarteles']):\n",
    "            # Tu lógica aquí si la celda tiene múltiples datos\n",
    "            cuartelesAgrupados = df2122.loc[df2122['Cuarteles'] == valor_deseado]\n",
    "\n",
    "            with pd.ExcelWriter('RFR_pbi_21-22 - copia.xlsx', engine='openpyxl', mode='a') as writer:\n",
    "                existing_data = pd.read_excel('RFR_pbi_21-22 - copia.xlsx', sheet_name='Cuarteles agrupados')\n",
    "                # Calcula la próxima fila disponible\n",
    "                start_row = existing_data.shape[0] + 1 if not existing_data.empty else 0\n",
    "                cuartelesSingulares.to_excel(writer, sheet_name='Cuarteles agrupados', index=False, startrow=start_row)\n",
    "\n",
    "\n",
    "            print(\"La celda tiene múltiples datos.\")\n",
    "        else:\n",
    "            # Tu lógica aquí si la celda tiene un solo dato\n",
    "            cuartelesSingulares = df2122.loc[df2122['Cuarteles'] == valor_deseado]\n",
    "            print(\"La celda tiene un solo dato.\")\n",
    "\n",
    "            with pd.ExcelWriter('RFR_pbi_21-22 - copia.xlsx', engine='openpyxl', mode='a') as writer:\n",
    "                existing_data = pd.read_excel('RFR_pbi_21-22 - copia.xlsx', sheet_name='Cuarteles singulares')\n",
    "                # Calcula la próxima fila disponible\n",
    "                start_row = existing_data.shape[0] + 1 if not existing_data.empty else 0\n",
    "                cuartelesSingulares.to_excel(writer, sheet_name='Cuarteles singulares', index=False, startrow=start_row)\n",
    "\n",
    "        cuartelesListos.append(valor_deseado)"
   ]
  },
  {
   "cell_type": "markdown",
   "metadata": {},
   "source": [
    "##  Día 7:"
   ]
  },
  {
   "cell_type": "code",
   "execution_count": 1,
   "metadata": {},
   "outputs": [],
   "source": [
    "import pandas as pd"
   ]
  },
  {
   "cell_type": "code",
   "execution_count": 13,
   "metadata": {},
   "outputs": [],
   "source": [
    "archivo20 = 'RFR_pbi_20-21 - copia.xlsx'\n",
    "df2021 = pd.read_excel(archivo20)\n",
    "\n",
    "hoja = 'Datos totales'\n",
    "\n",
    "archivo21 = 'RFR_pbi_21-22 - copia.xlsx'\n",
    "df2122 = pd.read_excel(archivo21, sheet_name=hoja)\n",
    "\n",
    "archivo22 = 'RFR_pbi_22-23 - copia.xlsx'\n",
    "df2223 = pd.read_excel(archivo22, sheet_name=hoja)"
   ]
  },
  {
   "cell_type": "code",
   "execution_count": 17,
   "metadata": {},
   "outputs": [
    {
     "name": "stdout",
     "output_type": "stream",
     "text": [
      "Material\n",
      "K14 (POTASIO 14)                      4452\n",
      "N23 + NOVATEK                         4082\n",
      "HIPOCLORITO DE SODIO                  2184\n",
      "NITRATO POTASIO LIQ (FERTILIZANTE)    1548\n",
      "FOSFORO LIQ CYT (FERTILIZANTE)        1149\n",
      "                                      ... \n",
      "PROMESOL 5X FERTILIZANTE                 2\n",
      "CALIPER                                  2\n",
      "RUGBY 200 CS (CADUSAFOS)                 1\n",
      "POTASIO EXPERT (POTASIO QUELATADO)       1\n",
      "VITTA FRUT (SUSTRATO)                    1\n",
      "Name: count, Length: 80, dtype: int64\n"
     ]
    }
   ],
   "source": [
    "print(df2223['Material'].value_counts())"
   ]
  },
  {
   "cell_type": "code",
   "execution_count": 19,
   "metadata": {},
   "outputs": [],
   "source": [
    "filas_a_eliminar = ['HIPOCLORITO DE SODIO', 'VIZYME AD', 'AGUA OXIGENDA', 'VIZIME MO', 'ACIDO SULFURICO (AGRO)', 'LIMPIEZA DE RIEGO VIZYME MO', 'ACIDO FOSFORICO 85%--(FOSFORO)','COUPLEX','WATER LOCK','WATER-AID']\n",
    "\n",
    "# Especifica el nombre de la columna\n",
    "nombre_columna = 'Material'\n",
    "\n",
    "# Elimina las filas donde el valor de 'Nombre_Columna' está en la lista 'filas_a_eliminar'\n",
    "#df2122 = df2122.loc[~df2122[nombre_columna].isin(filas_a_eliminar)]\n",
    "df2223 = df2223.loc[~df2223[nombre_columna].isin(filas_a_eliminar)]\n",
    "\n",
    "\n",
    "hoja = 'Datos sin limpiadores'\n",
    "\n",
    "#with pd.ExcelWriter(archivo21, engine='openpyxl', mode='a') as writer:\n",
    "#    df2122.to_excel(writer, sheet_name=hoja, index=False)\n",
    "#with pd.ExcelWriter('RFR_pbi_21-22 - copia.xlsx', engine='openpyxl', mode='a') as writer:\n",
    "#    df2122.to_excel(writer, sheet_name=hoja, index=False)\n",
    "\n",
    "with pd.ExcelWriter(archivo22, engine='openpyxl', mode='a') as writer:\n",
    "    df2223.to_excel(writer, sheet_name=hoja, index=False)\n",
    "\n"
   ]
  },
  {
   "cell_type": "markdown",
   "metadata": {},
   "source": [
    "#### Se crea una lista de cuarteles agrupados:"
   ]
  },
  {
   "cell_type": "code",
   "execution_count": 54,
   "metadata": {},
   "outputs": [],
   "source": [
    "# 21 a 22:\n",
    "archivo20 = 'RFR_pbi_20-21 - copia.xlsx'\n",
    "hoja = 'Datos sin limpiadores'\n",
    "df2021 = pd.read_excel(archivo20, sheet_name=hoja)"
   ]
  },
  {
   "cell_type": "code",
   "execution_count": 80,
   "metadata": {},
   "outputs": [
    {
     "name": "stdout",
     "output_type": "stream",
     "text": [
      "<bound method DataFrame.value_counts of         0\n",
      "0       2\n",
      "1       2\n",
      "2       2\n",
      "3       2\n",
      "4       2\n",
      "...    ..\n",
      "13192  55\n",
      "13193  55\n",
      "13194  55\n",
      "13195  54\n",
      "13196  54\n",
      "\n",
      "[13197 rows x 1 columns]>\n"
     ]
    }
   ],
   "source": [
    "# 21 a 22:\n",
    "cuartelesArreglo = []\n",
    "cuartelesDataframe = pd.DataFrame()\n",
    "for i, fila in df2021.iterrows():\n",
    "    if not((\",\" in fila['Cuarteles']) or (\"-\" in fila['Cuarteles'])):\n",
    "        cuartelesArreglo.append(fila['Cuarteles'])\n",
    "\n",
    "cuartelesDataframe = pd.concat([cuartelesDataframe, pd.DataFrame(cuartelesArreglo)], ignore_index=True)\n",
    "print(cuartelesDataframe.value_counts)"
   ]
  },
  {
   "cell_type": "code",
   "execution_count": 81,
   "metadata": {},
   "outputs": [],
   "source": [
    "# 21 a 22:\n",
    "cuarteles = cuartelesDataframe.drop_duplicates()\n",
    "cuarteles.to_excel('poto.xlsx', index=False)"
   ]
  },
  {
   "cell_type": "markdown",
   "metadata": {},
   "source": [
    "# Filtro para separar entre cuarteles agrupados y singulares:"
   ]
  },
  {
   "cell_type": "code",
   "execution_count": 1,
   "metadata": {},
   "outputs": [],
   "source": [
    "import pandas as pd"
   ]
  },
  {
   "cell_type": "code",
   "execution_count": 2,
   "metadata": {},
   "outputs": [],
   "source": [
    "#   20 - 21:\n",
    "\n",
    "cuartelesSolitos20 = ['2','1','4','3','5','8','10','9','43','65','36','62','57','60','61','71','73','72','74','75','76','70','69','68','67','66','20','45','22','24','32','31','29','46','47','34','18','16','25','38','15','28',\n",
    "'6','33','49','50','51','52','55','7','30','41','11','17','19','23','27','12','13','14','26','44','42','78','53','63','54','98','99','90','59','83','85','87','86','39','48','40','35','37','96','95','21',\n",
    "'77','94','92','93','79','56','100','89','64','179','58','80','122','188','191','140','205','207','185','181','91','157','167','162','171','176','151','152','153','154','82','210','81','88','209']\n",
    "\n",
    "\n",
    "# 21 - 22:\n",
    "\n",
    "cuartelesSolitos21 = ['16','10','11','13','1','27','35','41','44','31','28','15','33','36','18','25','3','4','46','2','6','9','42','47','34','38','20','22','45','32','7','8','30','49','59','60','50','51','52','55','74','75','76','65','43','62','57',\n",
    "'61','71','72','73','82','70','69','68','67','66','79','12','24','48','23','17','21','19','29','14','5','56','100','85','64','91','90','89','37','96','95','58','77','98','87','94','99','78','26','92','93','181','185','209','167',\n",
    "'162','157','151','171','176','152','153','154','210','140','205','207','122','188','191','179','80','53','40','86','81','88','54','39','83','101','63','211','212']\n",
    "\n",
    "\n",
    "#22 - 23:\n",
    "\n",
    "cuartelesSolitos22 = ['4','6','9','2','1','5','27','35','41','44','31','19','22','23','28','29','30','11','12','13','3','7','74','75','76','65','43','36','62','57','60','61','71','73','82','70','69','68','67','66','79','8','33','38','45','46','47',\n",
    "'48','15','18','16','20','24','32','42','34','49','59','50','51','52','55','17','25','14','10','21','26','72','56','100','85','64','91','90','89','37','96','95','58','77','98','87','94','99','78','92','93','40','39','54','86',\n",
    "'179','80','53','122','188','191','140','205','207','210','181','185','167','162','157','151','171','176','152','153','154','83','81','88','209','211','212','213','101','63']\n"
   ]
  },
  {
   "cell_type": "code",
   "execution_count": 3,
   "metadata": {},
   "outputs": [],
   "source": [
    "hoja = 'Datos sin limpiadores'\n",
    "\n",
    "archivo20 = 'RFR_pbi_20-21 - copia.xlsx'\n",
    "df2021 = pd.read_excel(archivo20, sheet_name=hoja)\n",
    "\n",
    "archivo21 = 'RFR_pbi_21-22 - copia.xlsx'\n",
    "df2122 = pd.read_excel(archivo21, sheet_name=hoja)\n",
    "\n",
    "archivo22 = 'RFR_pbi_22-23 - copia.xlsx'\n",
    "df2223 = pd.read_excel(archivo22, sheet_name=hoja)"
   ]
  },
  {
   "cell_type": "markdown",
   "metadata": {},
   "source": [
    "#### Para archivo 20 - 21:"
   ]
  },
  {
   "cell_type": "code",
   "execution_count": 7,
   "metadata": {},
   "outputs": [],
   "source": [
    "df2021Singulares = df2021.loc[~df2021['Cuarteles'].isin(cuartelesSolitos20)]\n",
    "hoja = 'Con cuarteles agrupados'\n",
    "with pd.ExcelWriter(archivo20, engine='openpyxl', mode='a') as writer:\n",
    "    df2021Singulares.to_excel(writer, sheet_name=hoja, index=False)\n"
   ]
  },
  {
   "cell_type": "markdown",
   "metadata": {},
   "source": [
    "#### Para archivo 21 - 22:"
   ]
  },
  {
   "cell_type": "code",
   "execution_count": 8,
   "metadata": {},
   "outputs": [],
   "source": [
    "df2122Agrupados = df2122.loc[~df2122['Cuarteles'].isin(cuartelesSolitos21)]\n",
    "hoja = 'Con cuarteles agrupados'\n",
    "\n",
    "with pd.ExcelWriter(archivo21, engine='openpyxl', mode='a') as writer:\n",
    "    df2122Agrupados.to_excel(writer, sheet_name=hoja, index=False)\n"
   ]
  },
  {
   "cell_type": "markdown",
   "metadata": {},
   "source": [
    "#### Para archivo 22 - 23:"
   ]
  },
  {
   "cell_type": "code",
   "execution_count": 6,
   "metadata": {},
   "outputs": [],
   "source": [
    "df2223Agrupados = df2223.loc[df2223['Cuarteles'].isin(cuartelesSolitos22)]\n",
    "hoja = 'Con cuarteles singulares'\n",
    "with pd.ExcelWriter(archivo22, engine='openpyxl', mode='a') as writer:\n",
    "    df2223Agrupados.to_excel(writer, sheet_name=hoja, index=False)\n",
    "\n",
    "\n",
    "df2223Agrupados = df2223.loc[~df2223['Cuarteles'].isin(cuartelesSolitos22)]\n",
    "hoja = 'Con cuarteles agrupados'\n",
    "with pd.ExcelWriter(archivo22, engine='openpyxl', mode='a') as writer:\n",
    "    df2223Agrupados.to_excel(writer, sheet_name=hoja, index=False)\n"
   ]
  },
  {
   "cell_type": "markdown",
   "metadata": {},
   "source": [
    "#### Algoritmo para encontrar las dosis totales agrupando por fundo, cuartel, fertilizante y fecha."
   ]
  },
  {
   "cell_type": "code",
   "execution_count": 77,
   "metadata": {},
   "outputs": [],
   "source": [
    "archivo = \"RFR_pbi_20-21 - copia.xlsx\"\n",
    "hoja = 'Con cuarteles singulares'\n",
    "df2021 = pd.read_excel(archivo, sheet_name=hoja)"
   ]
  },
  {
   "cell_type": "code",
   "execution_count": 79,
   "metadata": {},
   "outputs": [
    {
     "name": "stdout",
     "output_type": "stream",
     "text": [
      "8204\n"
     ]
    }
   ],
   "source": [
    "#       SE CHECKEA LA CANTIDAD DE COMBINACIONES UNICAS QUE PUEDEN HABER DE LOS CRITERIOS DE AGRUPACION DE LOS DATOS PARA EL CALCULO FINAL.\n",
    "df['combinacion'] = df.apply(lambda row: f\"{row['Fundo']}_{row['Cuarteles']}_{row['Bomba']}_{row['Material']}_{row['Inicio Aplicación (Notificada)']}_{row['Estado Fenológico']}\", axis=1)\n",
    "print(df['combinacion'].nunique())"
   ]
  },
  {
   "cell_type": "code",
   "execution_count": 21,
   "metadata": {},
   "outputs": [],
   "source": [
    "hoja = 'Con cuarteles singulares'\n",
    "\n",
    "archivo20 = 'RFR_pbi_20-21 - copia.xlsx'\n",
    "df2021 = pd.read_excel(archivo20, sheet_name=hoja)\n",
    "\n",
    "archivo21 = 'RFR_pbi_21-22 - copia.xlsx'\n",
    "df2122 = pd.read_excel(archivo21, sheet_name=hoja)\n",
    "\n",
    "archivo22 = 'RFR_pbi_22-23 - copia.xlsx'\n",
    "df2223 = pd.read_excel(archivo22, sheet_name=hoja)"
   ]
  },
  {
   "cell_type": "code",
   "execution_count": 20,
   "metadata": {},
   "outputs": [
    {
     "name": "stderr",
     "output_type": "stream",
     "text": [
      "C:\\Users\\Martin\\AppData\\Local\\Temp\\ipykernel_16704\\3329705574.py:30: FutureWarning: Setting an item of incompatible dtype is deprecated and will raise in a future error of pandas. Value '10.01' has dtype incompatible with int64, please explicitly cast to a compatible dtype first.\n",
      "  df2021.at[i, 'SuperficieTotalDocumentada'] = superficieTotalDocumentada\n",
      "C:\\Users\\Martin\\AppData\\Local\\Temp\\ipykernel_16704\\3329705574.py:31: FutureWarning: Setting an item of incompatible dtype is deprecated and will raise in a future error of pandas. Value '499450.7301406064' has dtype incompatible with int64, please explicitly cast to a compatible dtype first.\n",
      "  df2021.at[i, 'DosisTotal'] = dosisTotal\n"
     ]
    }
   ],
   "source": [
    "# 20 - 21:\n",
    "\n",
    "aplicacionesListas = []\n",
    "df2021['SuperficieTotalDocumentada'] = 0\n",
    "df2021['DosisTotal'] = 0\n",
    "df2021['DosisTotalPorHA'] = 0\n",
    "\n",
    "for i, filaA in df2021.iterrows():\n",
    "\n",
    "    superficieTotalDocumentada = 0\n",
    "    superficieDeAplicacion = 0\n",
    "    dosisTotal = 0\n",
    "    dosisTotalPorHA = 0\n",
    "\n",
    "    for j, filaB in df2021.iterrows():\n",
    "        if (filaA['Fundo'] == filaB['Fundo'] and\n",
    "            filaA['Cuarteles'] == filaB['Cuarteles'] and\n",
    "            filaA['Caseta'] == filaB['Caseta'] and\n",
    "            filaA['Bomba'] == filaB['Bomba'] and\n",
    "            filaA['Material'] == filaB['Material'] and\n",
    "            filaA['Inicio Aplicación (Notificada)'] == filaB['Inicio Aplicación (Notificada)'] and\n",
    "            filaA['Estado Fenológico'] == filaB['Estado Fenológico']):\n",
    "\n",
    "            if (pd.notna(filaB['Superficie Parcial'])):\n",
    "                superficieTotalDocumentada = superficieTotalDocumentada + filaB['Superficie Parcial']\n",
    "            else:\n",
    "                superficieTotalDocumentada = superficieTotalDocumentada + filaB['Superficie del Sector']\n",
    "            \n",
    "            if (pd.notna(filaB['Dosis Notificada'])):\n",
    "                dosisTotal = dosisTotal + filaB['Dosis Notificada']\n",
    "    \n",
    "    df2021.at[i, 'SuperficieTotalDocumentada'] = superficieTotalDocumentada\n",
    "    df2021.at[i, 'DosisTotal'] = dosisTotal\n",
    "    #df2021.at[i, 'DosisTotalPorHA'] = dosisTotal / filaA['SuperficieTotalDocumentada'] if pd.notna(filaA['SuperficieTotalDocumentada']) else 0\n",
    "\n",
    "with pd.ExcelWriter(archivo20, engine='openpyxl', mode='a') as writer:\n",
    "    df2021.to_excel(writer, sheet_name='datos agrupados por cuartel', index=False)\n"
   ]
  },
  {
   "cell_type": "markdown",
   "metadata": {},
   "source": [
    "## Miércoles 31/01/2024:"
   ]
  },
  {
   "cell_type": "code",
   "execution_count": 6,
   "metadata": {},
   "outputs": [
    {
     "data": {
      "text/plain": [
       "\"\\n'Fundo','Cuarteles','Inicio Aplicación (Notificada)','Fin Aplicación (Notificada)','Sistema de conducción','Estado Desarrollo','Ficha','Variedad','Aptitud','Material','UM base','Estado Fenológico',\\n'Proyección CAT Ton/h','Tamaño EnvaseSAC','Valle'\\n\""
      ]
     },
     "execution_count": 6,
     "metadata": {},
     "output_type": "execute_result"
    }
   ],
   "source": [
    "'''\n",
    "'Fundo','Cuarteles','Inicio Aplicación (Notificada)','Fin Aplicación (Notificada)','Sistema de conducción','Estado Desarrollo','Ficha','Variedad','Aptitud','Material','UM base','Estado Fenológico',\n",
    "'Proyección CAT Ton/h','Tamaño EnvaseSAC','Valle'\n",
    "'''"
   ]
  },
  {
   "cell_type": "code",
   "execution_count": 2,
   "metadata": {},
   "outputs": [
    {
     "name": "stdout",
     "output_type": "stream",
     "text": [
      "(13197, 23)\n"
     ]
    }
   ],
   "source": [
    "import pandas as pd\n",
    "\n",
    "archivo = 'RFR_pbi_20-21 - copia.xlsx'\n",
    "hoja = 'Con cuarteles singulares'\n",
    "df2021 = pd.read_excel(archivo, sheet_name=hoja)\n",
    "print(df2021.shape)"
   ]
  },
  {
   "cell_type": "code",
   "execution_count": 9,
   "metadata": {},
   "outputs": [
    {
     "name": "stdout",
     "output_type": "stream",
     "text": [
      "8162\n"
     ]
    }
   ],
   "source": [
    "#       AQUÍ CADA COMBINACION SIGNIFICA UNA APLICACIÓN DIFERENTE.\n",
    "df2021['combinacion'] = df2021.apply(lambda row: f\"{row['Fundo']}_{row['Cuarteles']}_{row['Inicio Aplicación (Notificada)']}_{row['Fin Aplicación (Notificada)']}_{row['Sistema de conducción']}_{row['Estado Desarrollo']}_{row['Ficha']}_{row['Variedad']}_{row['Aptitud']}_{row['Material']}_{row['UM base']}_{row['Estado Fenológico']}_{row['Proyección CAT Ton/h']}_{row['Tamaño EnvaseSAC']}_{row['Valle']}\", axis=1)\n",
    "\n",
    "print(df2021['combinacion'].nunique())"
   ]
  },
  {
   "cell_type": "code",
   "execution_count": 12,
   "metadata": {},
   "outputs": [
    {
     "name": "stdout",
     "output_type": "stream",
     "text": [
      "sectoress\n",
      "Fundo Palo Santo_4_C068_B185_1_5.87       21\n",
      "Fundo Palo Santo_1_C068_B185_7_6.7        21\n",
      "Fundo El Triángulo_31_C010_B028_6_8.1     20\n",
      "Fundo El Triángulo_33_C010_B027_5_0.82    20\n",
      "Fundo Santa Isabel_23_C005_B019_3_6.12    20\n",
      "                                          ..\n",
      "Fundo Las Mercedes_2_C077_B210_5_13.12     1\n",
      "Fundo Nilahue_5_C149_B459_12_8.04          1\n",
      "Fundo Nilahue_6_C149_B459_13_7.32          1\n",
      "Fundo Nilahue_3_C149_B452_1_9.42           1\n",
      "Fundo Nilahue_6_C149_B459_14_10.04         1\n",
      "Name: count, Length: 1497, dtype: int64\n"
     ]
    }
   ],
   "source": [
    "#       AQUÍ CADA COMBINACIÓN ES UN ÁREA DIFERENTE PARA CADA SECTOR.\n",
    "df2021['sectoress'] = df2021.apply(lambda row: f\"{row['Fundo']}_{row['Cuarteles']}_{row['Caseta']}_{row['Bomba']}_{row['Sector']}_{row['Superficie del Sector']}\", axis=1)\n",
    "#   _{row['Sistema de conducción']}_{row['Estado Desarrollo']}_{row['Ficha']}_{row['Variedad']}_{row['Aptitud']}_{row['Material']}_{row['UM base']}_{row['Estado Fenológico']}_{row['Proyección CAT Ton/h']}_{row['Valle']}\n",
    "print(df2021['sectoress'].value_counts())"
   ]
  },
  {
   "cell_type": "code",
   "execution_count": 7,
   "metadata": {},
   "outputs": [
    {
     "name": "stdout",
     "output_type": "stream",
     "text": [
      "(8162, 16)\n"
     ]
    }
   ],
   "source": [
    "columnas_a_conservar = ['Fundo','Cuarteles','Inicio Aplicación (Notificada)','Fin Aplicación (Notificada)','Sistema de conducción','Estado Desarrollo','Ficha','Variedad','Aptitud','Material','UM base',\n",
    "                        'Estado Fenológico','Proyección CAT Ton/h','Tamaño EnvaseSAC','Valle','combinacion']\n",
    "\n",
    "# Crear un nuevo DataFrame sin las columnas que no deseas conservar\n",
    "nuevo_df2021 = df2021[columnas_a_conservar]\n",
    "nuevo_df2021 = nuevo_df2021.drop_duplicates()\n",
    "print(nuevo_df2021.shape)\n",
    "\n",
    "with pd.ExcelWriter(archivo, engine='openpyxl', mode='a') as writer:\n",
    "    nuevo_df2021.to_excel(writer, sheet_name='Agrupados por cuartel I2', index=False)\n"
   ]
  },
  {
   "cell_type": "code",
   "execution_count": null,
   "metadata": {},
   "outputs": [],
   "source": [
    "# 20 - 21:\n",
    "\n",
    "aplicacionesListas = []\n",
    "df2021['SuperficieTotalDocumentada'] = 0\n",
    "df2021['DosisTotal'] = 0\n",
    "df2021['DosisTotalPorHA'] = 0\n",
    "\n",
    "for i, filaA in df2021.iterrows():\n",
    "\n",
    "    superficieTotalDocumentada = 0\n",
    "    superficieDeAplicacion = 0\n",
    "    dosisTotal = 0\n",
    "    dosisTotalPorHA = 0\n",
    "\n",
    "    for j, filaB in df2021.iterrows():\n",
    "        if (filaA['Fundo'] == filaB['Fundo']):\n",
    "\n",
    "            if (pd.notna(filaB['Superficie Parcial'])):\n",
    "                superficieTotalDocumentada = superficieTotalDocumentada + filaB['Superficie Parcial']\n",
    "            else:\n",
    "                superficieTotalDocumentada = superficieTotalDocumentada + filaB['Superficie del Sector']\n",
    "            \n",
    "            if (pd.notna(filaB['Dosis Notificada'])):\n",
    "                dosisTotal = dosisTotal + filaB['Dosis Notificada']\n",
    "    \n",
    "    df2021.at[i, 'SuperficieTotalDocumentada'] = superficieTotalDocumentada\n",
    "    df2021.at[i, 'DosisTotal'] = dosisTotal\n",
    "    #df2021.at[i, 'DosisTotalPorHA'] = dosisTotal / filaA['SuperficieTotalDocumentada'] if pd.notna(filaA['SuperficieTotalDocumentada']) else 0\n",
    "\n",
    "with pd.ExcelWriter(archivo20, engine='openpyxl', mode='a') as writer:\n",
    "    df2021.to_excel(writer, sheet_name='datos agrupados por cuartel', index=False)\n"
   ]
  }
 ],
 "metadata": {
  "kernelspec": {
   "display_name": "enwPractica",
   "language": "python",
   "name": "python3"
  },
  "language_info": {
   "codemirror_mode": {
    "name": "ipython",
    "version": 3
   },
   "file_extension": ".py",
   "mimetype": "text/x-python",
   "name": "python",
   "nbconvert_exporter": "python",
   "pygments_lexer": "ipython3",
   "version": "3.12.1"
  }
 },
 "nbformat": 4,
 "nbformat_minor": 2
}
