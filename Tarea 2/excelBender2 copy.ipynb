{
 "cells": [
  {
   "cell_type": "code",
   "execution_count": 7,
   "metadata": {},
   "outputs": [],
   "source": [
    "import pandas as pd\n",
    "\n",
    "archivo = 'RFR_pbi_22-23 - Intento 1.xlsx'\n",
    "hoja = 'Datos sin limpiadores'\n",
    "df = pd.read_excel(archivo, sheet_name=hoja)"
   ]
  },
  {
   "cell_type": "code",
   "execution_count": 8,
   "metadata": {},
   "outputs": [],
   "source": [
    "nuevas_filas = []\n",
    "\n",
    "# Iteramos sobre cada fila del DataFrame\n",
    "for index, row in df.iterrows():\n",
    "    cuarteles = str(row['Cuarteles'])\n",
    "\n",
    "    # Verificamos si hay un guion ('-') en la columna 'Cuarteles'\n",
    "    if '-' in cuarteles:\n",
    "        grupos = cuarteles.split(', ')\n",
    "        nuevos_cuarteles = []\n",
    "        for grupo in grupos:\n",
    "            if '-' in grupo:\n",
    "                inicio, fin = map(int, grupo.split('-'))\n",
    "                nuevos_cuarteles.extend([str(i) for i in range(inicio, fin + 1)])\n",
    "            else:\n",
    "                nuevos_cuarteles.append(grupo)\n",
    "    else:\n",
    "        nuevos_cuarteles = cuarteles.split(', ')\n",
    "\n",
    "    # Creamos una fila para cada cuartel en la lista desagrupada\n",
    "    for nuevo_cuartel in nuevos_cuarteles:\n",
    "        nueva_fila = row.copy()\n",
    "        nueva_fila['Cuarteles'] = nuevo_cuartel\n",
    "        nuevas_filas.append(nueva_fila)\n",
    "\n",
    "# Creamos un nuevo DataFrame con las filas desagrupadas\n",
    "df_desagrupado = pd.DataFrame(nuevas_filas)\n",
    "\n",
    "with pd.ExcelWriter(archivo, engine='openpyxl', mode='a') as writer:\n",
    "    # Escribir las filas filtradas en una nueva hoja de cálculo\n",
    "    df_desagrupado.to_excel(writer, sheet_name='Datos desagrupados', index=False)\n"
   ]
  }
 ],
 "metadata": {
  "kernelspec": {
   "display_name": "enwPractica",
   "language": "python",
   "name": "python3"
  },
  "language_info": {
   "codemirror_mode": {
    "name": "ipython",
    "version": 3
   },
   "file_extension": ".py",
   "mimetype": "text/x-python",
   "name": "python",
   "nbconvert_exporter": "python",
   "pygments_lexer": "ipython3",
   "version": "3.12.1"
  }
 },
 "nbformat": 4,
 "nbformat_minor": 2
}
