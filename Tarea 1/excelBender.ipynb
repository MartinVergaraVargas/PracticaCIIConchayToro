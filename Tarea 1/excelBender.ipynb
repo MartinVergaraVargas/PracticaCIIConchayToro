{
 "cells": [
  {
   "cell_type": "code",
   "execution_count": 1,
   "metadata": {},
   "outputs": [],
   "source": [
    "import pandas as pd"
   ]
  },
  {
   "cell_type": "code",
   "execution_count": 44,
   "metadata": {},
   "outputs": [
    {
     "name": "stderr",
     "output_type": "stream",
     "text": [
      "c:\\Users\\Martin\\Documents\\Practica\\enwPractica\\Lib\\site-packages\\openpyxl\\worksheet\\_reader.py:329: UserWarning: Data Validation extension is not supported and will be removed\n",
      "  warn(msg)\n"
     ]
    },
    {
     "name": "stdout",
     "output_type": "stream",
     "text": [
      "ANALITO\n",
      "Calcio                                40\n",
      "Na Interc                             40\n",
      "Magnesio                              40\n",
      "Sulfato                               40\n",
      "Sodio                                 40\n",
      "Mg Inter                              40\n",
      "Conductividad Eléctrica               40\n",
      "Potasio                               40\n",
      "Bicarbonatos                          40\n",
      "Cloruro                               40\n",
      "Ca Inter                              40\n",
      "K Interc                              40\n",
      "N Disponible                          23\n",
      "P Disponible                          20\n",
      "pH                                    20\n",
      "pH 1:2, 5 suspensión                  20\n",
      "Potasio Soluble                       20\n",
      "Mn Disponibl                          20\n",
      "RAS (Relación  Adsorción de Sodio)    20\n",
      "Materia Orgánica                      20\n",
      "Suma de bases                         20\n",
      "Limo                                  20\n",
      "Fe Disponible                         20\n",
      "K Disponible                          20\n",
      "H° Aprovechable                       20\n",
      "%Saturación de la pasta               20\n",
      "Densidad Aparente                     20\n",
      "Cu Disponible                         20\n",
      "Clase Textural                        20\n",
      "C.I.C.                                20\n",
      "B Disponible                          20\n",
      "Azufre Extractable                    20\n",
      "Arena                                 20\n",
      "Arcilla                               20\n",
      "15,0 bares %HPMP                      20\n",
      "0,3 bares %HCC                        20\n",
      "Zn Disponible                         20\n",
      "Carbonato total                        2\n",
      "Caliza activa                          2\n",
      "Name: count, dtype: int64\n"
     ]
    },
    {
     "name": "stderr",
     "output_type": "stream",
     "text": [
      "c:\\Users\\Martin\\Documents\\Practica\\enwPractica\\Lib\\site-packages\\openpyxl\\worksheet\\_reader.py:329: UserWarning: Data Validation extension is not supported and will be removed\n",
      "  warn(msg)\n"
     ]
    }
   ],
   "source": [
    "datosDeSuelo = 'HA_FSA_ZS_2019-4.xlsx'\n",
    "hojaDeCalculo = 'Base Suelo'\n",
    "\n",
    "df = pd.read_excel(datosDeSuelo, sheet_name=hojaDeCalculo)#, \n",
    "                   #usecols=['TIPO ANALISIS','ANALITO','UNIDADES','RR Foliar'])\n",
    "df2 = pd.read_excel(datosDeSuelo, sheet_name=hojaDeCalculo)#, \n",
    "referencia = df.copy()\n",
    "editable = df2.copy(deep=True)\n",
    "\n",
    "analitos = df['ANALITO'].value_counts()\n",
    "analitosUnicos = df['ANALITO'].unique()\n",
    "fundosUnicos = df['FUNDO'].nunique()\n",
    "\n",
    "#print(df.head(5))\n",
    "print(analitos)\n",
    "#print(df[['FUNDO','ANALITO']].head(5))\n",
    "#print(df.columns)\n",
    "#print(df.dtypes)"
   ]
  },
  {
   "cell_type": "markdown",
   "metadata": {},
   "source": [
    "#   MÉTODO 3:\n"
   ]
  },
  {
   "cell_type": "code",
   "execution_count": null,
   "metadata": {},
   "outputs": [],
   "source": [
    "df4 = pd.read_excel('archivoReducido2.xlsx')\n",
    "\n",
    "columnasAnalitos = df4.filter(like='-').columns\n",
    "\n",
    "nuevas_filas = []\n",
    "\n",
    "# Itera sobre cada fila del DataFrame\n",
    "for index, fila in df.iterrows():\n",
    "    # Itera sobre las columnas que deseas procesar\n",
    "    for columna in columnasAnalitos:\n",
    "        # Obtiene los elementos separados por \", \"\n",
    "        elementos = str(fila[columna]).split(\", \")\n",
    "        \n",
    "        # Para cada elemento, crea una nueva fila copiando la original\n",
    "        for elemento in elementos:\n",
    "            nueva_fila = fila.copy()\n",
    "            nueva_fila[columna] = elemento  # Reemplaza el valor de la columna con el elemento actual\n",
    "            nuevas_filas.append(nueva_fila)\n",
    "\n",
    "# Crea un nuevo DataFrame con las filas generadas\n",
    "df_expandido = pd.DataFrame(nuevas_filas)\n",
    "\n",
    "\n",
    "# Muestra el resultado final\n",
    "print(df_expandido)\n",
    "df_expandido.to_excel('archivoFinal.xlsx', index=False)\n"
   ]
  },
  {
   "cell_type": "markdown",
   "metadata": {},
   "source": [
    "# MÉTODO 2:"
   ]
  },
  {
   "cell_type": "markdown",
   "metadata": {},
   "source": [
    "### SE SACA LA CANTIDAD DE COLUMNAS DE ANALITOS NECESARIAS COMBINANDO LAS COLUMNAS 'ANALITO' Y 'UNIDADES' Y CONTANDO CUÁNTOS DIFERENTES HAY."
   ]
  },
  {
   "cell_type": "code",
   "execution_count": 14,
   "metadata": {},
   "outputs": [
    {
     "name": "stdout",
     "output_type": "stream",
     "text": [
      "438\n",
      "34\n"
     ]
    }
   ],
   "source": [
    "#       SE ELIMINAN LAS COLUMNAS QUE NO APORTAN A LA DIMENSIÓN FILA NI SON NECESARIAS PARA ESTE ANÁLISIS:\n",
    "\n",
    "'''FUNDO', 'FICHA', 'N° CUARTEL(S)', 'FECHA DE MUESTREO', 'VARIEDAD',\n",
    "'APTITUD', 'TIPO ANALISIS', 'TEJIDO', 'ANALITO', 'S', 'UNIDADES',\n",
    "'RR Foliar', 'RANGO ADECUADO (AGROLAB)',\n",
    "'RANGO CON PROBLEMA SEVERO (AGROLAB)', 'Observaciones', 'AÑO'''\n",
    "\n",
    "# Selecciona manualmente las columnas que deseas incluir en las combinaciones\n",
    "columnasOriginalesReducidas = ['FUNDO', 'FICHA', 'N° CUARTEL(S)', 'FECHA DE MUESTREO', 'VARIEDAD',\n",
    "                            'APTITUD', 'TIPO ANALISIS', 'TEJIDO', 'ANALITO','UNIDADES',\n",
    "                            'RR Foliar','S','Observaciones', 'AÑO']\n",
    "# Filtra el DataFrame original con las columnas seleccionadas\n",
    "archivoColSeleccionadas = referencia[columnasOriginalesReducidas]\n",
    "archivoReferencia = archivoColSeleccionadas.drop_duplicates()\n",
    "cantidadFilasReferencia = len(archivoReferencia)\n",
    "print(cantidadFilasReferencia)\n",
    "\n",
    "columnasEditablesReducidas = ['FUNDO', 'FICHA', 'N° CUARTEL(S)', 'FECHA DE MUESTREO', 'VARIEDAD',\n",
    "                            'APTITUD', 'TIPO ANALISIS', 'TEJIDO','S','Observaciones', 'AÑO']\n",
    "# Filtra el DataFrame original con las columnas seleccionadas\n",
    "archivoColEditables = editable[columnasEditablesReducidas]\n",
    "archivoEditable = archivoColEditables.drop_duplicates()\n",
    "cantidadFilasEditable = len(archivoEditable)\n",
    "print(cantidadFilasEditable)\n"
   ]
  },
  {
   "cell_type": "code",
   "execution_count": 15,
   "metadata": {},
   "outputs": [
    {
     "name": "stdout",
     "output_type": "stream",
     "text": [
      "50\n",
      "0       N Disponible - ppm\n",
      "1       N Disponible - ppm\n",
      "2       N Disponible - ppm\n",
      "3       N Disponible - ppm\n",
      "4       N Disponible - ppm\n",
      "              ...         \n",
      "971    Zn Disponible - ppm\n",
      "974    Zn Disponible - ppm\n",
      "984    Zn Disponible - ppm\n",
      "985    Zn Disponible - ppm\n",
      "986    Zn Disponible - ppm\n",
      "Name: analitoConUnidad, Length: 438, dtype: object\n"
     ]
    },
    {
     "name": "stderr",
     "output_type": "stream",
     "text": [
      "C:\\Users\\Martin\\AppData\\Local\\Temp\\ipykernel_17276\\2809416056.py:1: SettingWithCopyWarning: \n",
      "A value is trying to be set on a copy of a slice from a DataFrame.\n",
      "Try using .loc[row_indexer,col_indexer] = value instead\n",
      "\n",
      "See the caveats in the documentation: https://pandas.pydata.org/pandas-docs/stable/user_guide/indexing.html#returning-a-view-versus-a-copy\n",
      "  archivoReferencia['analitoConUnidad'] = archivoReferencia.apply(lambda row: f\"{row['ANALITO']} - {row['UNIDADES']}\", axis=1)\n"
     ]
    }
   ],
   "source": [
    "archivoReferencia['analitoConUnidad'] = archivoReferencia.apply(lambda row: f\"{row['ANALITO']} - {row['UNIDADES']}\", axis=1)\n",
    "archivoReferenciaCopia = archivoReferencia['analitoConUnidad']\n",
    "analitosUnicos = archivoReferenciaCopia.unique()\n",
    "totalDeAnalitosUnicos = archivoReferenciaCopia.nunique()\n",
    "print(totalDeAnalitosUnicos)\n",
    "#print(analitosUnicos)\n",
    "print(archivoReferencia['analitoConUnidad'])"
   ]
  },
  {
   "cell_type": "code",
   "execution_count": 17,
   "metadata": {},
   "outputs": [],
   "source": [
    "#       :\n",
    "\n",
    "datosDeSuelo = 'HA_FSA_ZS_2019-4.xlsx'\n",
    "hojaDeCalculo = 'Base Suelo'\n",
    "\n",
    "archivoA = archivoReferencia.copy(deep=True)\n",
    "# Cargar el archivo B\n",
    "archivoB = archivoEditable.copy(deep=True)\n",
    "\n",
    "archivoA['analitoConUnidad'] = archivoA.apply(lambda row: f\"{row['ANALITO']} - {row['UNIDADES']}\", axis=1)\n",
    "\n",
    "\n",
    "'''FUNDO', 'FICHA', 'N° CUARTEL(S)', 'FECHA DE MUESTREO', 'VARIEDAD',\n",
    "'APTITUD', 'TIPO ANALISIS', 'TEJIDO', 'ANALITO', 'S', 'UNIDADES',\n",
    "'RR Foliar', 'Observaciones', 'AÑO'''\n",
    "\n",
    "# _{row['RR Foliar']}\n",
    "archivoA['combinacion'] = archivoA.apply(lambda row: f\"{row['FUNDO']}_{row['FICHA']}_{row['N° CUARTEL(S)']}_{row['FECHA DE MUESTREO']}_{row['VARIEDAD']}_{row['APTITUD']}_{row['TIPO ANALISIS']}_{row['TEJIDO']}_{row['S']}_{row['Observaciones']}_{row['AÑO']}\", axis=1)\n",
    "archivoB['combinacion'] = archivoB.apply(lambda row: f\"{row['FUNDO']}_{row['FICHA']}_{row['N° CUARTEL(S)']}_{row['FECHA DE MUESTREO']}_{row['VARIEDAD']}_{row['APTITUD']}_{row['TIPO ANALISIS']}_{row['TEJIDO']}_{row['S']}_{row['Observaciones']}_{row['AÑO']}\", axis=1)\n",
    "\n",
    "archivoAReducido = archivoA.drop_duplicates()\n",
    "archivoAReducido.to_excel('originalTemporal.xlsx', index=False)\n",
    "archivoB.to_excel('archivoReducidoTemporal.xlsx', index=False)\n",
    "\n",
    "\n"
   ]
  },
  {
   "cell_type": "code",
   "execution_count": 19,
   "metadata": {},
   "outputs": [
    {
     "name": "stdout",
     "output_type": "stream",
     "text": [
      "Número de filas diferentes en la versión reducida: 34\n"
     ]
    }
   ],
   "source": [
    "#       Y SE CREAN LAS COLUMNAS QUE CORRESPONDEN A CADA ANALITO CON SU RESPECTIVA UNIDAD DE MEDICIÓN:\n",
    "\n",
    "analitosUnicos = archivoAReducido['analitoConUnidad'].unique()\n",
    "for e in analitosUnicos:\n",
    "    archivoB[e] = ''\n",
    "\n",
    "# Elimina filas duplicadas basadas en las columnas seleccionadas\n",
    "#archivoB = archivoColSeleccionadas.drop_duplicates()\n",
    "\n",
    "# Imprime el número de filas diferentes en la versión reducida\n",
    "print(f'Número de filas diferentes en la versión reducida: {len(archivoB)}')\n",
    "\n",
    "# Guarda la versión reducida en un nuevo archivo Excel (ArchivoReducido.xlsx)\n",
    "archivoB.to_excel('archivoReducidoTemporal.xlsx', index=False)\n"
   ]
  },
  {
   "cell_type": "markdown",
   "metadata": {},
   "source": [
    "### Se crea un archivo temporal que equivale a un original con 2 columnas más (analito - unidad) y (combinado):"
   ]
  },
  {
   "cell_type": "code",
   "execution_count": 20,
   "metadata": {},
   "outputs": [
    {
     "name": "stderr",
     "output_type": "stream",
     "text": [
      "C:\\Users\\Martin\\AppData\\Local\\Temp\\ipykernel_17276\\3084707175.py:37: FutureWarning: Setting an item of incompatible dtype is deprecated and will raise in a future error of pandas. Value '32' has dtype incompatible with float64, please explicitly cast to a compatible dtype first.\n",
      "  archivoB.at[indexB,varAnalito] = nueva_informacion\n",
      "C:\\Users\\Martin\\AppData\\Local\\Temp\\ipykernel_17276\\3084707175.py:37: FutureWarning: Setting an item of incompatible dtype is deprecated and will raise in a future error of pandas. Value '45' has dtype incompatible with float64, please explicitly cast to a compatible dtype first.\n",
      "  archivoB.at[indexB,varAnalito] = nueva_informacion\n",
      "C:\\Users\\Martin\\AppData\\Local\\Temp\\ipykernel_17276\\3084707175.py:37: FutureWarning: Setting an item of incompatible dtype is deprecated and will raise in a future error of pandas. Value '17.8' has dtype incompatible with float64, please explicitly cast to a compatible dtype first.\n",
      "  archivoB.at[indexB,varAnalito] = nueva_informacion\n",
      "C:\\Users\\Martin\\AppData\\Local\\Temp\\ipykernel_17276\\3084707175.py:37: FutureWarning: Setting an item of incompatible dtype is deprecated and will raise in a future error of pandas. Value '10.2' has dtype incompatible with float64, please explicitly cast to a compatible dtype first.\n",
      "  archivoB.at[indexB,varAnalito] = nueva_informacion\n",
      "C:\\Users\\Martin\\AppData\\Local\\Temp\\ipykernel_17276\\3084707175.py:37: FutureWarning: Setting an item of incompatible dtype is deprecated and will raise in a future error of pandas. Value '37' has dtype incompatible with float64, please explicitly cast to a compatible dtype first.\n",
      "  archivoB.at[indexB,varAnalito] = nueva_informacion\n",
      "C:\\Users\\Martin\\AppData\\Local\\Temp\\ipykernel_17276\\3084707175.py:37: FutureWarning: Setting an item of incompatible dtype is deprecated and will raise in a future error of pandas. Value '35' has dtype incompatible with float64, please explicitly cast to a compatible dtype first.\n",
      "  archivoB.at[indexB,varAnalito] = nueva_informacion\n",
      "C:\\Users\\Martin\\AppData\\Local\\Temp\\ipykernel_17276\\3084707175.py:37: FutureWarning: Setting an item of incompatible dtype is deprecated and will raise in a future error of pandas. Value 'nan' has dtype incompatible with float64, please explicitly cast to a compatible dtype first.\n",
      "  archivoB.at[indexB,varAnalito] = nueva_informacion\n",
      "C:\\Users\\Martin\\AppData\\Local\\Temp\\ipykernel_17276\\3084707175.py:37: FutureWarning: Setting an item of incompatible dtype is deprecated and will raise in a future error of pandas. Value 'nan' has dtype incompatible with float64, please explicitly cast to a compatible dtype first.\n",
      "  archivoB.at[indexB,varAnalito] = nueva_informacion\n",
      "C:\\Users\\Martin\\AppData\\Local\\Temp\\ipykernel_17276\\3084707175.py:37: FutureWarning: Setting an item of incompatible dtype is deprecated and will raise in a future error of pandas. Value '0.6' has dtype incompatible with float64, please explicitly cast to a compatible dtype first.\n",
      "  archivoB.at[indexB,varAnalito] = nueva_informacion\n",
      "C:\\Users\\Martin\\AppData\\Local\\Temp\\ipykernel_17276\\3084707175.py:37: FutureWarning: Setting an item of incompatible dtype is deprecated and will raise in a future error of pandas. Value '37' has dtype incompatible with float64, please explicitly cast to a compatible dtype first.\n",
      "  archivoB.at[indexB,varAnalito] = nueva_informacion\n",
      "C:\\Users\\Martin\\AppData\\Local\\Temp\\ipykernel_17276\\3084707175.py:37: FutureWarning: Setting an item of incompatible dtype is deprecated and will raise in a future error of pandas. Value 'nan' has dtype incompatible with float64, please explicitly cast to a compatible dtype first.\n",
      "  archivoB.at[indexB,varAnalito] = nueva_informacion\n",
      "C:\\Users\\Martin\\AppData\\Local\\Temp\\ipykernel_17276\\3084707175.py:37: FutureWarning: Setting an item of incompatible dtype is deprecated and will raise in a future error of pandas. Value 'nan' has dtype incompatible with float64, please explicitly cast to a compatible dtype first.\n",
      "  archivoB.at[indexB,varAnalito] = nueva_informacion\n",
      "C:\\Users\\Martin\\AppData\\Local\\Temp\\ipykernel_17276\\3084707175.py:37: FutureWarning: Setting an item of incompatible dtype is deprecated and will raise in a future error of pandas. Value 'nan' has dtype incompatible with float64, please explicitly cast to a compatible dtype first.\n",
      "  archivoB.at[indexB,varAnalito] = nueva_informacion\n",
      "C:\\Users\\Martin\\AppData\\Local\\Temp\\ipykernel_17276\\3084707175.py:37: FutureWarning: Setting an item of incompatible dtype is deprecated and will raise in a future error of pandas. Value '2' has dtype incompatible with float64, please explicitly cast to a compatible dtype first.\n",
      "  archivoB.at[indexB,varAnalito] = nueva_informacion\n",
      "C:\\Users\\Martin\\AppData\\Local\\Temp\\ipykernel_17276\\3084707175.py:37: FutureWarning: Setting an item of incompatible dtype is deprecated and will raise in a future error of pandas. Value '40' has dtype incompatible with float64, please explicitly cast to a compatible dtype first.\n",
      "  archivoB.at[indexB,varAnalito] = nueva_informacion\n",
      "C:\\Users\\Martin\\AppData\\Local\\Temp\\ipykernel_17276\\3084707175.py:37: FutureWarning: Setting an item of incompatible dtype is deprecated and will raise in a future error of pandas. Value '0.25' has dtype incompatible with float64, please explicitly cast to a compatible dtype first.\n",
      "  archivoB.at[indexB,varAnalito] = nueva_informacion\n",
      "C:\\Users\\Martin\\AppData\\Local\\Temp\\ipykernel_17276\\3084707175.py:37: FutureWarning: Setting an item of incompatible dtype is deprecated and will raise in a future error of pandas. Value '0.75' has dtype incompatible with float64, please explicitly cast to a compatible dtype first.\n",
      "  archivoB.at[indexB,varAnalito] = nueva_informacion\n",
      "C:\\Users\\Martin\\AppData\\Local\\Temp\\ipykernel_17276\\3084707175.py:37: FutureWarning: Setting an item of incompatible dtype is deprecated and will raise in a future error of pandas. Value 'Fco Arcillosa' has dtype incompatible with float64, please explicitly cast to a compatible dtype first.\n",
      "  archivoB.at[indexB,varAnalito] = nueva_informacion\n",
      "C:\\Users\\Martin\\AppData\\Local\\Temp\\ipykernel_17276\\3084707175.py:37: FutureWarning: Setting an item of incompatible dtype is deprecated and will raise in a future error of pandas. Value '1.7' has dtype incompatible with float64, please explicitly cast to a compatible dtype first.\n",
      "  archivoB.at[indexB,varAnalito] = nueva_informacion\n",
      "C:\\Users\\Martin\\AppData\\Local\\Temp\\ipykernel_17276\\3084707175.py:37: FutureWarning: Setting an item of incompatible dtype is deprecated and will raise in a future error of pandas. Value '60' has dtype incompatible with float64, please explicitly cast to a compatible dtype first.\n",
      "  archivoB.at[indexB,varAnalito] = nueva_informacion\n",
      "C:\\Users\\Martin\\AppData\\Local\\Temp\\ipykernel_17276\\3084707175.py:37: FutureWarning: Setting an item of incompatible dtype is deprecated and will raise in a future error of pandas. Value '0.51' has dtype incompatible with float64, please explicitly cast to a compatible dtype first.\n",
      "  archivoB.at[indexB,varAnalito] = nueva_informacion\n",
      "C:\\Users\\Martin\\AppData\\Local\\Temp\\ipykernel_17276\\3084707175.py:37: FutureWarning: Setting an item of incompatible dtype is deprecated and will raise in a future error of pandas. Value 'nan' has dtype incompatible with float64, please explicitly cast to a compatible dtype first.\n",
      "  archivoB.at[indexB,varAnalito] = nueva_informacion\n",
      "C:\\Users\\Martin\\AppData\\Local\\Temp\\ipykernel_17276\\3084707175.py:37: FutureWarning: Setting an item of incompatible dtype is deprecated and will raise in a future error of pandas. Value '1.55' has dtype incompatible with float64, please explicitly cast to a compatible dtype first.\n",
      "  archivoB.at[indexB,varAnalito] = nueva_informacion\n",
      "C:\\Users\\Martin\\AppData\\Local\\Temp\\ipykernel_17276\\3084707175.py:37: FutureWarning: Setting an item of incompatible dtype is deprecated and will raise in a future error of pandas. Value 'nan' has dtype incompatible with float64, please explicitly cast to a compatible dtype first.\n",
      "  archivoB.at[indexB,varAnalito] = nueva_informacion\n",
      "C:\\Users\\Martin\\AppData\\Local\\Temp\\ipykernel_17276\\3084707175.py:37: FutureWarning: Setting an item of incompatible dtype is deprecated and will raise in a future error of pandas. Value '7.6' has dtype incompatible with float64, please explicitly cast to a compatible dtype first.\n",
      "  archivoB.at[indexB,varAnalito] = nueva_informacion\n",
      "C:\\Users\\Martin\\AppData\\Local\\Temp\\ipykernel_17276\\3084707175.py:37: FutureWarning: Setting an item of incompatible dtype is deprecated and will raise in a future error of pandas. Value '186' has dtype incompatible with float64, please explicitly cast to a compatible dtype first.\n",
      "  archivoB.at[indexB,varAnalito] = nueva_informacion\n",
      "C:\\Users\\Martin\\AppData\\Local\\Temp\\ipykernel_17276\\3084707175.py:37: FutureWarning: Setting an item of incompatible dtype is deprecated and will raise in a future error of pandas. Value 'nan' has dtype incompatible with float64, please explicitly cast to a compatible dtype first.\n",
      "  archivoB.at[indexB,varAnalito] = nueva_informacion\n",
      "C:\\Users\\Martin\\AppData\\Local\\Temp\\ipykernel_17276\\3084707175.py:37: FutureWarning: Setting an item of incompatible dtype is deprecated and will raise in a future error of pandas. Value 'nan' has dtype incompatible with float64, please explicitly cast to a compatible dtype first.\n",
      "  archivoB.at[indexB,varAnalito] = nueva_informacion\n",
      "C:\\Users\\Martin\\AppData\\Local\\Temp\\ipykernel_17276\\3084707175.py:37: FutureWarning: Setting an item of incompatible dtype is deprecated and will raise in a future error of pandas. Value '28' has dtype incompatible with float64, please explicitly cast to a compatible dtype first.\n",
      "  archivoB.at[indexB,varAnalito] = nueva_informacion\n",
      "C:\\Users\\Martin\\AppData\\Local\\Temp\\ipykernel_17276\\3084707175.py:37: FutureWarning: Setting an item of incompatible dtype is deprecated and will raise in a future error of pandas. Value '0.8' has dtype incompatible with float64, please explicitly cast to a compatible dtype first.\n",
      "  archivoB.at[indexB,varAnalito] = nueva_informacion\n",
      "C:\\Users\\Martin\\AppData\\Local\\Temp\\ipykernel_17276\\3084707175.py:37: FutureWarning: Setting an item of incompatible dtype is deprecated and will raise in a future error of pandas. Value '10' has dtype incompatible with float64, please explicitly cast to a compatible dtype first.\n",
      "  archivoB.at[indexB,varAnalito] = nueva_informacion\n",
      "C:\\Users\\Martin\\AppData\\Local\\Temp\\ipykernel_17276\\3084707175.py:37: FutureWarning: Setting an item of incompatible dtype is deprecated and will raise in a future error of pandas. Value '2.5' has dtype incompatible with float64, please explicitly cast to a compatible dtype first.\n",
      "  archivoB.at[indexB,varAnalito] = nueva_informacion\n",
      "C:\\Users\\Martin\\AppData\\Local\\Temp\\ipykernel_17276\\3084707175.py:37: FutureWarning: Setting an item of incompatible dtype is deprecated and will raise in a future error of pandas. Value 'nan' has dtype incompatible with float64, please explicitly cast to a compatible dtype first.\n",
      "  archivoB.at[indexB,varAnalito] = nueva_informacion\n",
      "C:\\Users\\Martin\\AppData\\Local\\Temp\\ipykernel_17276\\3084707175.py:37: FutureWarning: Setting an item of incompatible dtype is deprecated and will raise in a future error of pandas. Value 'nan' has dtype incompatible with float64, please explicitly cast to a compatible dtype first.\n",
      "  archivoB.at[indexB,varAnalito] = nueva_informacion\n",
      "C:\\Users\\Martin\\AppData\\Local\\Temp\\ipykernel_17276\\3084707175.py:37: FutureWarning: Setting an item of incompatible dtype is deprecated and will raise in a future error of pandas. Value 'nan' has dtype incompatible with float64, please explicitly cast to a compatible dtype first.\n",
      "  archivoB.at[indexB,varAnalito] = nueva_informacion\n",
      "C:\\Users\\Martin\\AppData\\Local\\Temp\\ipykernel_17276\\3084707175.py:37: FutureWarning: Setting an item of incompatible dtype is deprecated and will raise in a future error of pandas. Value 'nan' has dtype incompatible with float64, please explicitly cast to a compatible dtype first.\n",
      "  archivoB.at[indexB,varAnalito] = nueva_informacion\n",
      "C:\\Users\\Martin\\AppData\\Local\\Temp\\ipykernel_17276\\3084707175.py:37: FutureWarning: Setting an item of incompatible dtype is deprecated and will raise in a future error of pandas. Value 'nan' has dtype incompatible with float64, please explicitly cast to a compatible dtype first.\n",
      "  archivoB.at[indexB,varAnalito] = nueva_informacion\n",
      "C:\\Users\\Martin\\AppData\\Local\\Temp\\ipykernel_17276\\3084707175.py:37: FutureWarning: Setting an item of incompatible dtype is deprecated and will raise in a future error of pandas. Value '6' has dtype incompatible with float64, please explicitly cast to a compatible dtype first.\n",
      "  archivoB.at[indexB,varAnalito] = nueva_informacion\n",
      "C:\\Users\\Martin\\AppData\\Local\\Temp\\ipykernel_17276\\3084707175.py:37: FutureWarning: Setting an item of incompatible dtype is deprecated and will raise in a future error of pandas. Value '6.5' has dtype incompatible with float64, please explicitly cast to a compatible dtype first.\n",
      "  archivoB.at[indexB,varAnalito] = nueva_informacion\n",
      "C:\\Users\\Martin\\AppData\\Local\\Temp\\ipykernel_17276\\3084707175.py:37: FutureWarning: Setting an item of incompatible dtype is deprecated and will raise in a future error of pandas. Value '5.5' has dtype incompatible with float64, please explicitly cast to a compatible dtype first.\n",
      "  archivoB.at[indexB,varAnalito] = nueva_informacion\n",
      "C:\\Users\\Martin\\AppData\\Local\\Temp\\ipykernel_17276\\3084707175.py:37: FutureWarning: Setting an item of incompatible dtype is deprecated and will raise in a future error of pandas. Value '0.48' has dtype incompatible with float64, please explicitly cast to a compatible dtype first.\n",
      "  archivoB.at[indexB,varAnalito] = nueva_informacion\n",
      "C:\\Users\\Martin\\AppData\\Local\\Temp\\ipykernel_17276\\3084707175.py:37: FutureWarning: Setting an item of incompatible dtype is deprecated and will raise in a future error of pandas. Value '19' has dtype incompatible with float64, please explicitly cast to a compatible dtype first.\n",
      "  archivoB.at[indexB,varAnalito] = nueva_informacion\n",
      "C:\\Users\\Martin\\AppData\\Local\\Temp\\ipykernel_17276\\3084707175.py:37: FutureWarning: Setting an item of incompatible dtype is deprecated and will raise in a future error of pandas. Value 'nan' has dtype incompatible with float64, please explicitly cast to a compatible dtype first.\n",
      "  archivoB.at[indexB,varAnalito] = nueva_informacion\n",
      "C:\\Users\\Martin\\AppData\\Local\\Temp\\ipykernel_17276\\3084707175.py:37: FutureWarning: Setting an item of incompatible dtype is deprecated and will raise in a future error of pandas. Value '1' has dtype incompatible with float64, please explicitly cast to a compatible dtype first.\n",
      "  archivoB.at[indexB,varAnalito] = nueva_informacion\n",
      "C:\\Users\\Martin\\AppData\\Local\\Temp\\ipykernel_17276\\3084707175.py:37: FutureWarning: Setting an item of incompatible dtype is deprecated and will raise in a future error of pandas. Value '1.2' has dtype incompatible with float64, please explicitly cast to a compatible dtype first.\n",
      "  archivoB.at[indexB,varAnalito] = nueva_informacion\n",
      "C:\\Users\\Martin\\AppData\\Local\\Temp\\ipykernel_17276\\3084707175.py:37: FutureWarning: Setting an item of incompatible dtype is deprecated and will raise in a future error of pandas. Value '28' has dtype incompatible with float64, please explicitly cast to a compatible dtype first.\n",
      "  archivoB.at[indexB,varAnalito] = nueva_informacion\n",
      "C:\\Users\\Martin\\AppData\\Local\\Temp\\ipykernel_17276\\3084707175.py:37: FutureWarning: Setting an item of incompatible dtype is deprecated and will raise in a future error of pandas. Value '2.2' has dtype incompatible with float64, please explicitly cast to a compatible dtype first.\n",
      "  archivoB.at[indexB,varAnalito] = nueva_informacion\n",
      "C:\\Users\\Martin\\AppData\\Local\\Temp\\ipykernel_17276\\3084707175.py:37: FutureWarning: Setting an item of incompatible dtype is deprecated and will raise in a future error of pandas. Value '106' has dtype incompatible with float64, please explicitly cast to a compatible dtype first.\n",
      "  archivoB.at[indexB,varAnalito] = nueva_informacion\n",
      "C:\\Users\\Martin\\AppData\\Local\\Temp\\ipykernel_17276\\3084707175.py:37: FutureWarning: Setting an item of incompatible dtype is deprecated and will raise in a future error of pandas. Value 'nan' has dtype incompatible with float64, please explicitly cast to a compatible dtype first.\n",
      "  archivoB.at[indexB,varAnalito] = nueva_informacion\n",
      "C:\\Users\\Martin\\AppData\\Local\\Temp\\ipykernel_17276\\3084707175.py:37: FutureWarning: Setting an item of incompatible dtype is deprecated and will raise in a future error of pandas. Value 'nan' has dtype incompatible with float64, please explicitly cast to a compatible dtype first.\n",
      "  archivoB.at[indexB,varAnalito] = nueva_informacion\n"
     ]
    }
   ],
   "source": [
    "#       SE LLENAN LAS COLUMNAS DE ANALITOS CON LOS RESULTADOS:\n",
    "\n",
    "archivoA = pd.read_excel('originalTemporal.xlsx')\n",
    "# Cargar el archivo B\n",
    "archivoB = pd.read_excel('archivoReducidoTemporal.xlsx')\n",
    "\n",
    "\n",
    "for indexA, filaA in archivoA.iterrows():\n",
    "\n",
    "    colComb1 = filaA['combinacion']  # Reemplazar 'Nombre' con el nombre de la columna en archivoA\n",
    "    # Obtener los valores de la misma fila y columna específica en archivoB\n",
    "    varAnalito = filaA['analitoConUnidad']  # Nuevo: Obtener el valor de la columna 'ANALITO' en archivoA\n",
    "    valorRRFoliar = filaA['RR Foliar']  # Nuevo: Obtener el valor de la columna 'RR Foliar' en archivoA\n",
    "\n",
    "    for indexB, filaB in archivoB.iterrows():\n",
    "\n",
    "        colComb2 = filaB['combinacion']\n",
    "\n",
    "        # Comparar los valores\n",
    "        if colComb1 == colComb2:\n",
    "\n",
    "            informacionActual = filaB[varAnalito]\n",
    "            if informacionActual is not None and informacionActual != '':\n",
    "                # Concatenar la nueva información al valor actual\n",
    "                nueva_informacion = f\"{informacionActual}, {valorRRFoliar}\"\n",
    "\n",
    "                if \", nan\" in nueva_informacion:\n",
    "                    nueva_informacion = nueva_informacion.replace(\", nan\", \"\")\n",
    "\n",
    "                if \"nan, \" in nueva_informacion:\n",
    "                    nueva_informacion = nueva_informacion.replace(\"nan, \", \"\")\n",
    "\n",
    "            else:\n",
    "                # Si la información actual es None o está vacía, asignar solo la nueva información\n",
    "                nueva_informacion = valorRRFoliar\n",
    "\n",
    "            archivoB.at[indexB,varAnalito] = nueva_informacion\n",
    "\n",
    "archivoB.to_excel('archivoReducido2.xlsx', index=False)\n"
   ]
  },
  {
   "cell_type": "markdown",
   "metadata": {},
   "source": [
    "# MÉTODO 1:"
   ]
  },
  {
   "cell_type": "code",
   "execution_count": 3,
   "metadata": {},
   "outputs": [],
   "source": [
    "archivoReducido = df.drop_duplicates(keep='first', inplace=False, ignore_index=False)\n",
    "#archivoReducido.to_excel('archivoReducido.xlsx', index=False)\n"
   ]
  },
  {
   "cell_type": "code",
   "execution_count": 4,
   "metadata": {},
   "outputs": [
    {
     "name": "stdout",
     "output_type": "stream",
     "text": [
      "Número de filas diferentes en la versión reducida: 435\n"
     ]
    }
   ],
   "source": [
    "# SE DIVIDEN LOS ANALITOS EN COLUMNAS:\n",
    "\n",
    "# Selecciona manualmente las columnas que deseas incluir en las combinaciones\n",
    "columnas_seleccionadas = ['FUNDO', 'FICHA', 'N° CUARTEL(S)', 'FECHA DE MUESTREO', 'VARIEDAD',\n",
    "       'APTITUD', 'TIPO ANALISIS', 'TEJIDO','S', 'UNIDADES',\n",
    "       'RR Foliar', 'RANGO ADECUADO (AGROLAB)',\n",
    "       'RANGO CON PROBLEMA SEVERO (AGROLAB)', 'Observaciones', 'AÑO']  \n",
    "# Reemplaza con los nombres reales de tus columnas\n",
    "\n",
    "# Filtra el DataFrame original con las columnas seleccionadas\n",
    "archivoColSeleccionadas = archivoReducido[columnas_seleccionadas]\n",
    "\n",
    "analitosUnicos = archivoReducido['ANALITO'].unique()\n",
    "\n",
    "for e in analitosUnicos:\n",
    "    archivoColSeleccionadas[e] = ''\n",
    "\n",
    "# Elimina filas duplicadas basadas en las columnas seleccionadas\n",
    "#archivo_reducido = archivoColSeleccionadas.drop_duplicates()\n",
    "\n",
    "# Imprime el número de filas diferentes en la versión reducida\n",
    "print(f'Número de filas diferentes en la versión reducida: {len(archivoColSeleccionadas)}')\n",
    "\n",
    "# Guarda la versión reducida en un nuevo archivo Excel (ArchivoReducido.xlsx)\n",
    "archivoColSeleccionadas.to_excel('ArchivoReducido2.xlsx', index=False)\n"
   ]
  },
  {
   "cell_type": "code",
   "execution_count": 7,
   "metadata": {},
   "outputs": [],
   "source": [
    "#   SE AÑADE UNA COLUMNA COMO MARCADOR AL FINAL DE AMBOS EXCEL:\n",
    "\n",
    "archivoA = pd.read_excel('archivoReducido.xlsx')\n",
    "# Cargar el archivo B\n",
    "archivoB = pd.read_excel('ArchivoReducido2.xlsx')\n",
    "\n",
    "'''FUNDO', 'FICHA', 'N° CUARTEL(S)', 'FECHA DE MUESTREO', 'VARIEDAD',\n",
    "       'APTITUD', 'TIPO ANALISIS', 'TEJIDO','S', 'UNIDADES',\n",
    "       'RR Foliar', 'RANGO ADECUADO (AGROLAB)',\n",
    "       'RANGO CON PROBLEMA SEVERO (AGROLAB)', 'Observaciones', 'AÑO'''\n",
    "\n",
    "# _{row['RR Foliar']}\n",
    "archivoA['combinacion'] = archivoA.apply(lambda row: f\"{row['FUNDO']}_{row['FICHA']}_{row['N° CUARTEL(S)']}_{row['FECHA DE MUESTREO']}_{row['VARIEDAD']}_{row['APTITUD']}_{row['TIPO ANALISIS']}_{row['TEJIDO']}_{row['S']}_{row['UNIDADES']}_{row['RR Foliar']}_{row['RANGO ADECUADO (AGROLAB)']}_{row['RANGO CON PROBLEMA SEVERO (AGROLAB)']}_{row['Observaciones']}_{row['AÑO']}\", axis=1)\n",
    "archivoB['combinacion'] = archivoB.apply(lambda row: f\"{row['FUNDO']}_{row['FICHA']}_{row['N° CUARTEL(S)']}_{row['FECHA DE MUESTREO']}_{row['VARIEDAD']}_{row['APTITUD']}_{row['TIPO ANALISIS']}_{row['TEJIDO']}_{row['S']}_{row['UNIDADES']}_{row['RR Foliar']}_{row['RANGO ADECUADO (AGROLAB)']}_{row['RANGO CON PROBLEMA SEVERO (AGROLAB)']}_{row['Observaciones']}_{row['AÑO']}\", axis=1)\n",
    "\n",
    "archivoA.to_excel('archivoReducido-Marcado.xlsx', index=False)\n",
    "archivoB.to_excel('archivoReducido2-Marcado.xlsx', index=False)\n"
   ]
  },
  {
   "cell_type": "code",
   "execution_count": null,
   "metadata": {},
   "outputs": [],
   "source": [
    "#       ESTO ENTREGA UN ARCHIVO EN QUE, LINEAS CON LOS MISMOS DATOS ESTÁN DUPLICADAS POR TENER 'RR Foliar' EN DISTINTAS COLUMNAS DE ANALITOS.\n",
    "\n",
    "df1 = pd.read_excel('archivoReducido-Marcado.xlsx')\n",
    "df2 = pd.read_excel('archivoReducido2-Marcado.xlsx')\n",
    "\n",
    "for index, filaArchivoA in df1.iterrows():\n",
    "    \n",
    "    colComb1 = filaArchivoA['combinacion']  # Reemplazar 'Nombre' con el nombre de la columna en df1\n",
    "    # Obtener los valores de la misma fila y columna específica en df2\n",
    "    colComb2 = df2.at[index, 'combinacion']  # Reemplazar 'Nombre' con el nombre de la columna en df2\n",
    "    varAnalito = filaArchivoA['ANALITO']  # Nuevo: Obtener el valor de la columna 'ANALITO' en df1\n",
    "    valorRRFoliar = filaArchivoA['RR Foliar']  # Nuevo: Obtener el valor de la columna 'RR Foliar' en df1\n",
    "\n",
    "\n",
    "    # Comparar los valores\n",
    "    if colComb1 == colComb2:\n",
    "        print(f\"En la fila {index}, la columna 'Nombre' tiene el mismo valor en ambos DataFrames.\")\n",
    "        \n",
    "        # Asignar el valor de 'RR Foliar' en df1 a la columna 'varAnalito' en df2\n",
    "        df2.loc[index, varAnalito] = valorRRFoliar\n",
    "    \n",
    "    else:\n",
    "        print('kk')\n",
    "\n",
    "df2.to_excel('archivoReducido3-Marcado.xlsx', index=False)\n"
   ]
  },
  {
   "cell_type": "code",
   "execution_count": 23,
   "metadata": {},
   "outputs": [],
   "source": [
    "#       DE AQUI HACIA ABAJO NO ES NECESARIO.\n",
    "\n",
    "df1 = pd.read_excel('archivoReducido-Marcado.xlsx')\n",
    "df2 = pd.read_excel('archivoReducido2.1-Marcado.xlsx')\n",
    "\n",
    "archivoReducido = df2.drop_duplicates(keep='first', inplace=False, ignore_index=False)\n",
    "\n",
    "df2.to_excel('archivoReducido2.2-Marcado.xlsx', index=False)\n"
   ]
  },
  {
   "cell_type": "code",
   "execution_count": 35,
   "metadata": {},
   "outputs": [
    {
     "name": "stdout",
     "output_type": "stream",
     "text": [
      "615\n",
      "984\n"
     ]
    }
   ],
   "source": [
    "# Para mezclar columnas y crear un archivo nuevo.\n",
    "df['Fundo-Ficha-Cuartel-FechaM-Variedad-Aptitud-TipoDeA-Tejido'] = df.apply(lambda row: f\"{row['FUNDO']}_{row['FICHA']}_{row['N° CUARTEL(S)']}_{row['FECHA DE MUESTREO']}_{row['VARIEDAD']}_{row['APTITUD']}_{row['TIPO ANALISIS']}_{row['TEJIDO']}_{row['RR Foliar']}_{row['S']}\", axis=1)\n",
    "datosUnicos = df['Fundo-Ficha-Cuartel-FechaM-Variedad-Aptitud-TipoDeA-Tejido'].nunique()\n",
    "print(datosUnicos)\n",
    "cantidad_filas = df.shape[0]\n",
    "print(cantidad_filas)\n"
   ]
  },
  {
   "cell_type": "code",
   "execution_count": 68,
   "metadata": {},
   "outputs": [],
   "source": [
    "analitosUnicos = df['ANALITO'].unique()\n",
    "#print(analitosUnicos)\n",
    "columnasDeAnalitos = pd.DataFrame(columns=analitosUnicos)\n",
    "\n",
    "for e in analitosUnicos:\n",
    "    columnasDeAnalitos[e] = df['ANALITO'].apply(lambda x: 1 if x == e else 0)\n",
    "\n",
    "#print(columnasDeAnalitos)\n",
    "''''''\n",
    "columnas_agregar = ['FUNDO', 'FICHA', 'N° CUARTEL(S)', 'FECHA DE MUESTREO', 'VARIEDAD',\n",
    "                    'APTITUD', 'TIPO ANALISIS', 'TEJIDO','RR Foliar']\n",
    "for col in columnas_agregar:\n",
    "    columnasDeAnalitos[col] = df[col]\n",
    "\n",
    "nuevoColumnasDeAnalitos = columnasDeAnalitos.groupby(columnas_agregar, as_index=False).sum()\n",
    "nuevoColumnasDeAnalitos.to_excel('BaseSuelo2.xlsx', index=False)\n"
   ]
  },
  {
   "cell_type": "code",
   "execution_count": 82,
   "metadata": {},
   "outputs": [
    {
     "name": "stderr",
     "output_type": "stream",
     "text": [
      "c:\\Users\\Martin\\Documents\\Practica\\enwPractica\\Lib\\site-packages\\openpyxl\\worksheet\\_reader.py:329: UserWarning: Data Validation extension is not supported and will be removed\n",
      "  warn(msg)\n"
     ]
    }
   ],
   "source": [
    "#   ALGORITMO PARA ITERAR POR AMBOS ARCHIVOS, COMPARAR IGUALDAD DE FILAS Y COPIAR DATOS DE 'RR Foliar' EN EL ARCHIVO B SEGUN\n",
    "#   IGUALDAD DE 'ANALITO' CON NOMBRE DE COLUMNA EN ARCHIVO B.\n",
    "\n",
    "datosDeSuelo = 'HA_FSA_ZS_2019-4.xlsx'\n",
    "hojaDeCalculo = 'Base Suelo'\n",
    "archivoOriginal = pd.read_excel(datosDeSuelo, sheet_name=hojaDeCalculo)\n",
    "\n",
    "# Cargar el archivo B\n",
    "archivo_nuevo = pd.read_excel('ArchivoReducido2.xlsx')\n",
    "\n",
    "# Iterar sobre las filas del archivo original\n",
    "for index_original, fila_original in archivoOriginal.iterrows():\n",
    "    # Filtrar el archivo B basado en las columnas seleccionadas\n",
    "    condicion_filtro = (\n",
    "        (archivo_nuevo['FUNDO'] == fila_original['FUNDO']) &\n",
    "        (archivo_nuevo['FICHA'] == fila_original['FICHA']) &        \n",
    "        (archivo_nuevo['N° CUARTEL(S)'] == fila_original['N° CUARTEL(S)']) &\n",
    "        (archivo_nuevo['FECHA DE MUESTREO'] == fila_original['FECHA DE MUESTREO']) &\n",
    "        (archivo_nuevo['VARIEDAD'] == fila_original['VARIEDAD']) &\n",
    "        (archivo_nuevo['APTITUD'] == fila_original['APTITUD']) &\n",
    "        (archivo_nuevo['TIPO ANALISIS'] == fila_original['TIPO ANALISIS']) &\n",
    "        (archivo_nuevo['TEJIDO'] == fila_original['TEJIDO']) &\n",
    "        (archivo_nuevo['S'] == fila_original['S']) &\n",
    "        (archivo_nuevo['UNIDADES'] == fila_original['UNIDADES']) &\n",
    "        (archivo_nuevo['RANGO ADECUADO (AGROLAB)'] == fila_original['RANGO ADECUADO (AGROLAB)']) &\n",
    "        (archivo_nuevo['RANGO CON PROBLEMA SEVERO (AGROLAB)'] == fila_original['RANGO CON PROBLEMA SEVERO (AGROLAB)']) &\n",
    "        (archivo_nuevo['Observaciones'] == fila_original['Observaciones']) &\n",
    "        (archivo_nuevo['AÑO'] == fila_original['AÑO'])\n",
    "    )\n",
    "    \n",
    "    # Verificar si se encontró una fila en el archivo B que coincide\n",
    "    if not archivo_nuevo.loc[condicion_filtro].empty:\n",
    "        # Obtener el valor de 'RR Foliar' en el archivo original\n",
    "        valor_rr_foliar = fila_original['RR Foliar']\n",
    "        \n",
    "        # Obtener el valor de 'ANALITO' en la fila actual del archivo original\n",
    "        analito = fila_original['ANALITO']\n",
    "        \n",
    "        # Copiar el valor de 'RR Foliar' en la columna correspondiente del archivo B\n",
    "        archivo_nuevo.loc[condicion_filtro, analito] = valor_rr_foliar\n",
    "\n",
    "# Guardar el archivo B actualizado\n",
    "archivo_nuevo.to_excel('ArchivoReducido3.xlsx', index=False)\n"
   ]
  },
  {
   "cell_type": "code",
   "execution_count": 38,
   "metadata": {},
   "outputs": [
    {
     "name": "stdout",
     "output_type": "stream",
     "text": [
      "Celdas con más de un término:\n",
      "13,    EL MIRADOR,    N,    0,3 bares %HCC - %\n",
      "13,    EL MIRADOR,    O,    15,0 bares %HPMP - %\n",
      "13,    EL MIRADOR,    P,    Arcilla - %\n",
      "13,    EL MIRADOR,    Q,    Arena - %\n",
      "13,    EL MIRADOR,    S,    B Disponible - ppm\n",
      "13,    EL MIRADOR,    V,    C.I.C. - meq/100gr\n",
      "13,    EL MIRADOR,    W,    Ca Inter - meq/100gr\n",
      "13,    EL MIRADOR,    X,    Ca Inter - % CIC\n",
      "13,    EL MIRADOR,    AC,    Clase Textural - nan\n",
      "13,    EL MIRADOR,    AF,    Conductividad Eléctrica - dS/m\n",
      "13,    EL MIRADOR,    AG,    Cu Disponible - ppm\n",
      "13,    EL MIRADOR,    AH,    Densidad Aparente - g/cc\n",
      "13,    EL MIRADOR,    AI,    Fe Disponible - ppm\n",
      "13,    EL MIRADOR,    AJ,    H° Aprovechable - %\n",
      "13,    EL MIRADOR,    AK,    K Disponible - ppm\n",
      "13,    EL MIRADOR,    AL,    K Interc - meq/100gr\n",
      "13,    EL MIRADOR,    AM,    K Interc - % CIC\n",
      "13,    EL MIRADOR,    AN,    Limo - %\n",
      "13,    EL MIRADOR,    AQ,    Materia Orgánica - %\n",
      "13,    EL MIRADOR,    AR,    Mg Inter - meq/100gr\n",
      "13,    EL MIRADOR,    AS,    Mg Inter - % CIC\n",
      "13,    EL MIRADOR,    AT,    Mn Disponibl - ppm\n",
      "14,    EL MIRADOR,    M,    %Saturación de la pasta - %\n",
      "14,    EL MIRADOR,    T,    Bicarbonatos - meq/L\n",
      "14,    EL MIRADOR,    U,    Bicarbonatos - mg/L\n",
      "14,    EL MIRADOR,    AB,    Carbonato total - %\n",
      "14,    EL MIRADOR,    AF,    Conductividad Eléctrica - dS/m\n",
      "16,    EL MIRADOR,    Y,    Calcio - meq/L\n",
      "16,    EL MIRADOR,    Z,    Calcio - mg/L\n",
      "17,    EL MIRADOR,    AD,    Cloruro - meq/L\n",
      "17,    EL MIRADOR,    AE,    Cloruro - mg/L\n",
      "18,    EL MIRADOR,    AO,    Magnesio - meq/L\n",
      "18,    EL MIRADOR,    AP,    Magnesio - mg/L\n",
      "19,    EL MIRADOR,    AQ,    Materia Orgánica - %\n",
      "30,    YUNGAY,    AU,    Na Interc - meq/100gr\n",
      "30,    YUNGAY,    AV,    Na Interc - % CIC\n",
      "30,    YUNGAY,    AW,    P Disponible - ppm\n",
      "30,    YUNGAY,    AY,    pH 1:2, 5 suspensión - nan\n",
      "30,    YUNGAY,    BB,    Potasio Soluble - ppm\n",
      "30,    YUNGAY,    BH,    Suma de bases - meq/100gr\n",
      "30,    YUNGAY,    BI,    Zn Disponible - ppm\n",
      "31,    YUNGAY,    AX,    pH - nan\n",
      "31,    YUNGAY,    BC,    RAS (Relación  Adsorción de Sodio) - nan\n",
      "31,    YUNGAY,    BF,    Sulfato - meq/L\n",
      "31,    YUNGAY,    BG,    Sulfato - mg/L\n",
      "33,    YUNGAY,    AZ,    Potasio - meq/L\n",
      "33,    YUNGAY,    BA,    Potasio - mg/L\n",
      "34,    YUNGAY,    BD,    Sodio - meq/L\n",
      "34,    YUNGAY,    BE,    Sodio - mg/L\n"
     ]
    }
   ],
   "source": [
    "import openpyxl\n",
    "\n",
    "def encontrar_celdas_con_mas_de_un_termino(archivo_excel):\n",
    "    # Cargar el archivo Excel\n",
    "    wb = openpyxl.load_workbook(archivo_excel)\n",
    "    \n",
    "    # Seleccionar la primera hoja del libro de trabajo\n",
    "    sheet = wb.active\n",
    "    encabezado = [celda.value for celda in sheet[1]]\n",
    "    # Lista para almacenar las coordenadas de las celdas con más de un término\n",
    "    celdas_con_mas_de_un_termino = []\n",
    "\n",
    "    # Iterar sobre las filas y columnas\n",
    "    # Iterar sobre las filas y columnas\n",
    "    for fila_numero, fila in enumerate(sheet.iter_rows(min_row=2, max_row=sheet.max_row, min_col=1, max_col=sheet.max_column), start=2):\n",
    "        nombre_fila = fila[0].value  # Obtener el valor de la primera celda en la fila (nombre de la fila)\n",
    "        \n",
    "        for columna_numero, celda in enumerate(fila, start=1):\n",
    "            # Obtener el valor de la celda actual\n",
    "            valor_celda = celda.value\n",
    "\n",
    "            # Verificar si hay más de un término separado por \", \"\n",
    "            if isinstance(valor_celda, str) and \", \" in valor_celda:\n",
    "                # Agregar las coordenadas de la celda a la lista\n",
    "                coordenadas = f\"{celda.row},    {nombre_fila},    {celda.column_letter},    {encabezado[columna_numero - 1]}\"\n",
    "                celdas_con_mas_de_un_termino.append(coordenadas)\n",
    "\n",
    "    # Cerrar el archivo Excel\n",
    "    wb.close()\n",
    "\n",
    "    return celdas_con_mas_de_un_termino\n",
    "\n",
    "# Uso del ejemplo\n",
    "archivo_excel = 'archivoReducido2.xlsx'\n",
    "celdas_encontradas = encontrar_celdas_con_mas_de_un_termino(archivo_excel)\n",
    "\n",
    "# Mostrar las coordenadas de las celdas encontradas\n",
    "print(\"Celdas con más de un término:\")\n",
    "for celda in celdas_encontradas:\n",
    "    print(celda)\n"
   ]
  },
  {
   "cell_type": "code",
   "execution_count": 40,
   "metadata": {},
   "outputs": [
    {
     "name": "stdout",
     "output_type": "stream",
     "text": [
      "Las celdas con más de un término se han guardado en celdas_encontradas.xlsx.\n"
     ]
    }
   ],
   "source": [
    "import pandas as pd\n",
    "\n",
    "def escribir_en_excel(celdas_con_mas_de_un_termino, nombre_archivo):\n",
    "    # Dividir cada cadena en términos y crear una lista de listas\n",
    "    datos = [celda.split(',    ') for celda in celdas_con_mas_de_un_termino]\n",
    "\n",
    "    # Crear un DataFrame a partir de la lista de listas\n",
    "    df = pd.DataFrame(datos, columns=[\"Fila\", \"Nombre_Fila\", \"Columna\", \"Encabezado\"])\n",
    "\n",
    "    # Escribir el DataFrame en un archivo Excel\n",
    "    df.to_excel(nombre_archivo, index=False)\n",
    "\n",
    "# Lista de celdas con más de un término (debe ser proporcionada)\n",
    "\n",
    "# Especifica el nombre del nuevo archivo Excel\n",
    "nuevo_archivo_excel = 'celdas_encontradas.xlsx'\n",
    "\n",
    "# Escribir en el nuevo archivo Excel\n",
    "escribir_en_excel(celdas_encontradas, nuevo_archivo_excel)\n",
    "\n",
    "print(f\"Las celdas con más de un término se han guardado en {nuevo_archivo_excel}.\")\n"
   ]
  },
  {
   "cell_type": "code",
   "execution_count": 55,
   "metadata": {},
   "outputs": [],
   "source": [
    "datosDeSuelo = 'HA_FSA_ZS_2019(4) - Procesado.xlsx'\n",
    "hojaDeCalculo = 'Hoja3'\n",
    "\n",
    "df = pd.read_excel(datosDeSuelo, sheet_name=hojaDeCalculo)#, \n",
    "                   #usecols=['TIPO ANALISIS','ANALITO','UNIDADES','RR Foliar'])\n",
    "\n",
    "modificado = df.drop_duplicates()\n",
    "\n",
    "#print(df.head(5))\n",
    "\n",
    "\n",
    "modificado.to_excel('poto.xlsx', index=False)\n"
   ]
  }
 ],
 "metadata": {
  "kernelspec": {
   "display_name": "enwPractica",
   "language": "python",
   "name": "python3"
  },
  "language_info": {
   "codemirror_mode": {
    "name": "ipython",
    "version": 3
   },
   "file_extension": ".py",
   "mimetype": "text/x-python",
   "name": "python",
   "nbconvert_exporter": "python",
   "pygments_lexer": "ipython3",
   "version": "3.12.1"
  }
 },
 "nbformat": 4,
 "nbformat_minor": 2
}
